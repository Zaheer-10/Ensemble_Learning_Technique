{
 "cells": [
  {
   "cell_type": "markdown",
   "id": "a208d8ab",
   "metadata": {},
   "source": [
    "Random Fores| Decision Tree | Bagging Classifier | Hyperparameter Tuning"
   ]
  },
  {
   "cell_type": "code",
   "execution_count": 1,
   "id": "eb50729e",
   "metadata": {},
   "outputs": [],
   "source": [
    "import pandas as pd\n",
    "import numpy as np"
   ]
  },
  {
   "cell_type": "code",
   "execution_count": 2,
   "id": "909327b2",
   "metadata": {},
   "outputs": [
    {
     "data": {
      "text/html": [
       "<div>\n",
       "<style scoped>\n",
       "    .dataframe tbody tr th:only-of-type {\n",
       "        vertical-align: middle;\n",
       "    }\n",
       "\n",
       "    .dataframe tbody tr th {\n",
       "        vertical-align: top;\n",
       "    }\n",
       "\n",
       "    .dataframe thead th {\n",
       "        text-align: right;\n",
       "    }\n",
       "</style>\n",
       "<table border=\"1\" class=\"dataframe\">\n",
       "  <thead>\n",
       "    <tr style=\"text-align: right;\">\n",
       "      <th></th>\n",
       "      <th>fixed acidity</th>\n",
       "      <th>volatile acidity</th>\n",
       "      <th>citric acid</th>\n",
       "      <th>residual sugar</th>\n",
       "      <th>chlorides</th>\n",
       "      <th>free sulfur dioxide</th>\n",
       "      <th>total sulfur dioxide</th>\n",
       "      <th>density</th>\n",
       "      <th>pH</th>\n",
       "      <th>sulphates</th>\n",
       "      <th>alcohol</th>\n",
       "      <th>quality</th>\n",
       "    </tr>\n",
       "  </thead>\n",
       "  <tbody>\n",
       "    <tr>\n",
       "      <th>0</th>\n",
       "      <td>7.4</td>\n",
       "      <td>0.70</td>\n",
       "      <td>0.00</td>\n",
       "      <td>1.9</td>\n",
       "      <td>0.076</td>\n",
       "      <td>11.0</td>\n",
       "      <td>34.0</td>\n",
       "      <td>0.9978</td>\n",
       "      <td>3.51</td>\n",
       "      <td>0.56</td>\n",
       "      <td>9.4</td>\n",
       "      <td>5</td>\n",
       "    </tr>\n",
       "    <tr>\n",
       "      <th>1</th>\n",
       "      <td>7.8</td>\n",
       "      <td>0.88</td>\n",
       "      <td>0.00</td>\n",
       "      <td>2.6</td>\n",
       "      <td>0.098</td>\n",
       "      <td>25.0</td>\n",
       "      <td>67.0</td>\n",
       "      <td>0.9968</td>\n",
       "      <td>3.20</td>\n",
       "      <td>0.68</td>\n",
       "      <td>9.8</td>\n",
       "      <td>5</td>\n",
       "    </tr>\n",
       "    <tr>\n",
       "      <th>2</th>\n",
       "      <td>7.8</td>\n",
       "      <td>0.76</td>\n",
       "      <td>0.04</td>\n",
       "      <td>2.3</td>\n",
       "      <td>0.092</td>\n",
       "      <td>15.0</td>\n",
       "      <td>54.0</td>\n",
       "      <td>0.9970</td>\n",
       "      <td>3.26</td>\n",
       "      <td>0.65</td>\n",
       "      <td>9.8</td>\n",
       "      <td>5</td>\n",
       "    </tr>\n",
       "    <tr>\n",
       "      <th>3</th>\n",
       "      <td>11.2</td>\n",
       "      <td>0.28</td>\n",
       "      <td>0.56</td>\n",
       "      <td>1.9</td>\n",
       "      <td>0.075</td>\n",
       "      <td>17.0</td>\n",
       "      <td>60.0</td>\n",
       "      <td>0.9980</td>\n",
       "      <td>3.16</td>\n",
       "      <td>0.58</td>\n",
       "      <td>9.8</td>\n",
       "      <td>6</td>\n",
       "    </tr>\n",
       "    <tr>\n",
       "      <th>4</th>\n",
       "      <td>7.4</td>\n",
       "      <td>0.70</td>\n",
       "      <td>0.00</td>\n",
       "      <td>1.9</td>\n",
       "      <td>0.076</td>\n",
       "      <td>11.0</td>\n",
       "      <td>34.0</td>\n",
       "      <td>0.9978</td>\n",
       "      <td>3.51</td>\n",
       "      <td>0.56</td>\n",
       "      <td>9.4</td>\n",
       "      <td>5</td>\n",
       "    </tr>\n",
       "  </tbody>\n",
       "</table>\n",
       "</div>"
      ],
      "text/plain": [
       "   fixed acidity  volatile acidity  citric acid  residual sugar  chlorides  \\\n",
       "0            7.4              0.70         0.00             1.9      0.076   \n",
       "1            7.8              0.88         0.00             2.6      0.098   \n",
       "2            7.8              0.76         0.04             2.3      0.092   \n",
       "3           11.2              0.28         0.56             1.9      0.075   \n",
       "4            7.4              0.70         0.00             1.9      0.076   \n",
       "\n",
       "   free sulfur dioxide  total sulfur dioxide  density    pH  sulphates  \\\n",
       "0                 11.0                  34.0   0.9978  3.51       0.56   \n",
       "1                 25.0                  67.0   0.9968  3.20       0.68   \n",
       "2                 15.0                  54.0   0.9970  3.26       0.65   \n",
       "3                 17.0                  60.0   0.9980  3.16       0.58   \n",
       "4                 11.0                  34.0   0.9978  3.51       0.56   \n",
       "\n",
       "   alcohol  quality  \n",
       "0      9.4        5  \n",
       "1      9.8        5  \n",
       "2      9.8        5  \n",
       "3      9.8        6  \n",
       "4      9.4        5  "
      ]
     },
     "execution_count": 2,
     "metadata": {},
     "output_type": "execute_result"
    }
   ],
   "source": [
    "df = pd.read_csv('Dataset/winequality-red.csv')\n",
    "df.head()"
   ]
  },
  {
   "cell_type": "code",
   "execution_count": 3,
   "id": "240392a2",
   "metadata": {},
   "outputs": [
    {
     "data": {
      "text/plain": [
       "array([5, 6, 7, 4, 8, 3], dtype=int64)"
      ]
     },
     "execution_count": 3,
     "metadata": {},
     "output_type": "execute_result"
    }
   ],
   "source": [
    "df['quality'].unique()"
   ]
  },
  {
   "cell_type": "code",
   "execution_count": 4,
   "id": "7a489f69",
   "metadata": {},
   "outputs": [
    {
     "data": {
      "text/plain": [
       "6"
      ]
     },
     "execution_count": 4,
     "metadata": {},
     "output_type": "execute_result"
    }
   ],
   "source": [
    "len(df['quality'].unique())"
   ]
  },
  {
   "cell_type": "code",
   "execution_count": 5,
   "id": "ca113604",
   "metadata": {},
   "outputs": [
    {
     "data": {
      "text/plain": [
       "6"
      ]
     },
     "execution_count": 5,
     "metadata": {},
     "output_type": "execute_result"
    }
   ],
   "source": [
    "df['quality'].nunique()"
   ]
  },
  {
   "cell_type": "code",
   "execution_count": 6,
   "id": "e7932949",
   "metadata": {},
   "outputs": [
    {
     "data": {
      "text/plain": [
       "5    681\n",
       "6    638\n",
       "7    199\n",
       "4     53\n",
       "8     18\n",
       "3     10\n",
       "Name: quality, dtype: int64"
      ]
     },
     "execution_count": 6,
     "metadata": {},
     "output_type": "execute_result"
    }
   ],
   "source": [
    "df['quality'].value_counts()"
   ]
  },
  {
   "cell_type": "code",
   "execution_count": 7,
   "id": "bf66f0ef",
   "metadata": {},
   "outputs": [
    {
     "data": {
      "text/html": [
       "<div>\n",
       "<style scoped>\n",
       "    .dataframe tbody tr th:only-of-type {\n",
       "        vertical-align: middle;\n",
       "    }\n",
       "\n",
       "    .dataframe tbody tr th {\n",
       "        vertical-align: top;\n",
       "    }\n",
       "\n",
       "    .dataframe thead th {\n",
       "        text-align: right;\n",
       "    }\n",
       "</style>\n",
       "<table border=\"1\" class=\"dataframe\">\n",
       "  <thead>\n",
       "    <tr style=\"text-align: right;\">\n",
       "      <th></th>\n",
       "      <th>count</th>\n",
       "      <th>mean</th>\n",
       "      <th>std</th>\n",
       "      <th>min</th>\n",
       "      <th>25%</th>\n",
       "      <th>50%</th>\n",
       "      <th>75%</th>\n",
       "      <th>max</th>\n",
       "    </tr>\n",
       "  </thead>\n",
       "  <tbody>\n",
       "    <tr>\n",
       "      <th>fixed acidity</th>\n",
       "      <td>1599.0</td>\n",
       "      <td>8.319637</td>\n",
       "      <td>1.741096</td>\n",
       "      <td>4.60000</td>\n",
       "      <td>7.1000</td>\n",
       "      <td>7.90000</td>\n",
       "      <td>9.200000</td>\n",
       "      <td>15.90000</td>\n",
       "    </tr>\n",
       "    <tr>\n",
       "      <th>volatile acidity</th>\n",
       "      <td>1599.0</td>\n",
       "      <td>0.527821</td>\n",
       "      <td>0.179060</td>\n",
       "      <td>0.12000</td>\n",
       "      <td>0.3900</td>\n",
       "      <td>0.52000</td>\n",
       "      <td>0.640000</td>\n",
       "      <td>1.58000</td>\n",
       "    </tr>\n",
       "    <tr>\n",
       "      <th>citric acid</th>\n",
       "      <td>1599.0</td>\n",
       "      <td>0.270976</td>\n",
       "      <td>0.194801</td>\n",
       "      <td>0.00000</td>\n",
       "      <td>0.0900</td>\n",
       "      <td>0.26000</td>\n",
       "      <td>0.420000</td>\n",
       "      <td>1.00000</td>\n",
       "    </tr>\n",
       "    <tr>\n",
       "      <th>residual sugar</th>\n",
       "      <td>1599.0</td>\n",
       "      <td>2.538806</td>\n",
       "      <td>1.409928</td>\n",
       "      <td>0.90000</td>\n",
       "      <td>1.9000</td>\n",
       "      <td>2.20000</td>\n",
       "      <td>2.600000</td>\n",
       "      <td>15.50000</td>\n",
       "    </tr>\n",
       "    <tr>\n",
       "      <th>chlorides</th>\n",
       "      <td>1599.0</td>\n",
       "      <td>0.087467</td>\n",
       "      <td>0.047065</td>\n",
       "      <td>0.01200</td>\n",
       "      <td>0.0700</td>\n",
       "      <td>0.07900</td>\n",
       "      <td>0.090000</td>\n",
       "      <td>0.61100</td>\n",
       "    </tr>\n",
       "    <tr>\n",
       "      <th>free sulfur dioxide</th>\n",
       "      <td>1599.0</td>\n",
       "      <td>15.874922</td>\n",
       "      <td>10.460157</td>\n",
       "      <td>1.00000</td>\n",
       "      <td>7.0000</td>\n",
       "      <td>14.00000</td>\n",
       "      <td>21.000000</td>\n",
       "      <td>72.00000</td>\n",
       "    </tr>\n",
       "    <tr>\n",
       "      <th>total sulfur dioxide</th>\n",
       "      <td>1599.0</td>\n",
       "      <td>46.467792</td>\n",
       "      <td>32.895324</td>\n",
       "      <td>6.00000</td>\n",
       "      <td>22.0000</td>\n",
       "      <td>38.00000</td>\n",
       "      <td>62.000000</td>\n",
       "      <td>289.00000</td>\n",
       "    </tr>\n",
       "    <tr>\n",
       "      <th>density</th>\n",
       "      <td>1599.0</td>\n",
       "      <td>0.996747</td>\n",
       "      <td>0.001887</td>\n",
       "      <td>0.99007</td>\n",
       "      <td>0.9956</td>\n",
       "      <td>0.99675</td>\n",
       "      <td>0.997835</td>\n",
       "      <td>1.00369</td>\n",
       "    </tr>\n",
       "    <tr>\n",
       "      <th>pH</th>\n",
       "      <td>1599.0</td>\n",
       "      <td>3.311113</td>\n",
       "      <td>0.154386</td>\n",
       "      <td>2.74000</td>\n",
       "      <td>3.2100</td>\n",
       "      <td>3.31000</td>\n",
       "      <td>3.400000</td>\n",
       "      <td>4.01000</td>\n",
       "    </tr>\n",
       "    <tr>\n",
       "      <th>sulphates</th>\n",
       "      <td>1599.0</td>\n",
       "      <td>0.658149</td>\n",
       "      <td>0.169507</td>\n",
       "      <td>0.33000</td>\n",
       "      <td>0.5500</td>\n",
       "      <td>0.62000</td>\n",
       "      <td>0.730000</td>\n",
       "      <td>2.00000</td>\n",
       "    </tr>\n",
       "    <tr>\n",
       "      <th>alcohol</th>\n",
       "      <td>1599.0</td>\n",
       "      <td>10.422983</td>\n",
       "      <td>1.065668</td>\n",
       "      <td>8.40000</td>\n",
       "      <td>9.5000</td>\n",
       "      <td>10.20000</td>\n",
       "      <td>11.100000</td>\n",
       "      <td>14.90000</td>\n",
       "    </tr>\n",
       "    <tr>\n",
       "      <th>quality</th>\n",
       "      <td>1599.0</td>\n",
       "      <td>5.636023</td>\n",
       "      <td>0.807569</td>\n",
       "      <td>3.00000</td>\n",
       "      <td>5.0000</td>\n",
       "      <td>6.00000</td>\n",
       "      <td>6.000000</td>\n",
       "      <td>8.00000</td>\n",
       "    </tr>\n",
       "  </tbody>\n",
       "</table>\n",
       "</div>"
      ],
      "text/plain": [
       "                       count       mean        std      min      25%  \\\n",
       "fixed acidity         1599.0   8.319637   1.741096  4.60000   7.1000   \n",
       "volatile acidity      1599.0   0.527821   0.179060  0.12000   0.3900   \n",
       "citric acid           1599.0   0.270976   0.194801  0.00000   0.0900   \n",
       "residual sugar        1599.0   2.538806   1.409928  0.90000   1.9000   \n",
       "chlorides             1599.0   0.087467   0.047065  0.01200   0.0700   \n",
       "free sulfur dioxide   1599.0  15.874922  10.460157  1.00000   7.0000   \n",
       "total sulfur dioxide  1599.0  46.467792  32.895324  6.00000  22.0000   \n",
       "density               1599.0   0.996747   0.001887  0.99007   0.9956   \n",
       "pH                    1599.0   3.311113   0.154386  2.74000   3.2100   \n",
       "sulphates             1599.0   0.658149   0.169507  0.33000   0.5500   \n",
       "alcohol               1599.0  10.422983   1.065668  8.40000   9.5000   \n",
       "quality               1599.0   5.636023   0.807569  3.00000   5.0000   \n",
       "\n",
       "                           50%        75%        max  \n",
       "fixed acidity          7.90000   9.200000   15.90000  \n",
       "volatile acidity       0.52000   0.640000    1.58000  \n",
       "citric acid            0.26000   0.420000    1.00000  \n",
       "residual sugar         2.20000   2.600000   15.50000  \n",
       "chlorides              0.07900   0.090000    0.61100  \n",
       "free sulfur dioxide   14.00000  21.000000   72.00000  \n",
       "total sulfur dioxide  38.00000  62.000000  289.00000  \n",
       "density                0.99675   0.997835    1.00369  \n",
       "pH                     3.31000   3.400000    4.01000  \n",
       "sulphates              0.62000   0.730000    2.00000  \n",
       "alcohol               10.20000  11.100000   14.90000  \n",
       "quality                6.00000   6.000000    8.00000  "
      ]
     },
     "execution_count": 7,
     "metadata": {},
     "output_type": "execute_result"
    }
   ],
   "source": [
    "df.describe().T"
   ]
  },
  {
   "cell_type": "code",
   "execution_count": 8,
   "id": "ecffd9eb",
   "metadata": {},
   "outputs": [
    {
     "data": {
      "text/plain": [
       "240"
      ]
     },
     "execution_count": 8,
     "metadata": {},
     "output_type": "execute_result"
    }
   ],
   "source": [
    "df.duplicated().sum()"
   ]
  },
  {
   "cell_type": "code",
   "execution_count": 9,
   "id": "8a4e10c0",
   "metadata": {},
   "outputs": [],
   "source": [
    "df=df.drop_duplicates()"
   ]
  },
  {
   "cell_type": "code",
   "execution_count": 10,
   "id": "41f86237",
   "metadata": {},
   "outputs": [
    {
     "data": {
      "text/plain": [
       "0"
      ]
     },
     "execution_count": 10,
     "metadata": {},
     "output_type": "execute_result"
    }
   ],
   "source": [
    "df.duplicated().sum()"
   ]
  },
  {
   "cell_type": "code",
   "execution_count": 11,
   "id": "a5404e18",
   "metadata": {},
   "outputs": [],
   "source": [
    "X=df.drop(\"quality\",axis=1)"
   ]
  },
  {
   "cell_type": "code",
   "execution_count": 12,
   "id": "f14408e6",
   "metadata": {},
   "outputs": [],
   "source": [
    "y=df['quality']"
   ]
  },
  {
   "cell_type": "code",
   "execution_count": 13,
   "id": "f78d051f",
   "metadata": {},
   "outputs": [],
   "source": [
    "from sklearn.model_selection import train_test_split,GridSearchCV"
   ]
  },
  {
   "cell_type": "code",
   "execution_count": 14,
   "id": "83f540a5",
   "metadata": {},
   "outputs": [],
   "source": [
    "X_train,X_test,y_train,y_test=train_test_split(X,y,test_size=0.33,random_state=10)"
   ]
  },
  {
   "cell_type": "code",
   "execution_count": 15,
   "id": "11fc1084",
   "metadata": {},
   "outputs": [
    {
     "data": {
      "text/plain": [
       "'from sklearn.preprocessing import StandardScaler\\nfrom sklearn.preprocessing import StandardScaler\\nsclr = StandardScaler()\\nscr.fit()\\nscr.transform()'"
      ]
     },
     "execution_count": 15,
     "metadata": {},
     "output_type": "execute_result"
    }
   ],
   "source": [
    "'''from sklearn.preprocessing import StandardScaler\n",
    "from sklearn.preprocessing import StandardScaler\n",
    "sclr = StandardScaler()\n",
    "scr.fit()\n",
    "scr.transform()'''\n"
   ]
  },
  {
   "cell_type": "markdown",
   "id": "641029a4",
   "metadata": {},
   "source": [
    "## Decision tree Algorithm"
   ]
  },
  {
   "cell_type": "code",
   "execution_count": 16,
   "id": "7aab29b0",
   "metadata": {},
   "outputs": [],
   "source": [
    "from sklearn.tree import DecisionTreeClassifier\n",
    "model=DecisionTreeClassifier()"
   ]
  },
  {
   "cell_type": "code",
   "execution_count": 17,
   "id": "035e585d",
   "metadata": {},
   "outputs": [
    {
     "data": {
      "text/html": [
       "<style>#sk-container-id-1 {color: black;background-color: white;}#sk-container-id-1 pre{padding: 0;}#sk-container-id-1 div.sk-toggleable {background-color: white;}#sk-container-id-1 label.sk-toggleable__label {cursor: pointer;display: block;width: 100%;margin-bottom: 0;padding: 0.3em;box-sizing: border-box;text-align: center;}#sk-container-id-1 label.sk-toggleable__label-arrow:before {content: \"▸\";float: left;margin-right: 0.25em;color: #696969;}#sk-container-id-1 label.sk-toggleable__label-arrow:hover:before {color: black;}#sk-container-id-1 div.sk-estimator:hover label.sk-toggleable__label-arrow:before {color: black;}#sk-container-id-1 div.sk-toggleable__content {max-height: 0;max-width: 0;overflow: hidden;text-align: left;background-color: #f0f8ff;}#sk-container-id-1 div.sk-toggleable__content pre {margin: 0.2em;color: black;border-radius: 0.25em;background-color: #f0f8ff;}#sk-container-id-1 input.sk-toggleable__control:checked~div.sk-toggleable__content {max-height: 200px;max-width: 100%;overflow: auto;}#sk-container-id-1 input.sk-toggleable__control:checked~label.sk-toggleable__label-arrow:before {content: \"▾\";}#sk-container-id-1 div.sk-estimator input.sk-toggleable__control:checked~label.sk-toggleable__label {background-color: #d4ebff;}#sk-container-id-1 div.sk-label input.sk-toggleable__control:checked~label.sk-toggleable__label {background-color: #d4ebff;}#sk-container-id-1 input.sk-hidden--visually {border: 0;clip: rect(1px 1px 1px 1px);clip: rect(1px, 1px, 1px, 1px);height: 1px;margin: -1px;overflow: hidden;padding: 0;position: absolute;width: 1px;}#sk-container-id-1 div.sk-estimator {font-family: monospace;background-color: #f0f8ff;border: 1px dotted black;border-radius: 0.25em;box-sizing: border-box;margin-bottom: 0.5em;}#sk-container-id-1 div.sk-estimator:hover {background-color: #d4ebff;}#sk-container-id-1 div.sk-parallel-item::after {content: \"\";width: 100%;border-bottom: 1px solid gray;flex-grow: 1;}#sk-container-id-1 div.sk-label:hover label.sk-toggleable__label {background-color: #d4ebff;}#sk-container-id-1 div.sk-serial::before {content: \"\";position: absolute;border-left: 1px solid gray;box-sizing: border-box;top: 0;bottom: 0;left: 50%;z-index: 0;}#sk-container-id-1 div.sk-serial {display: flex;flex-direction: column;align-items: center;background-color: white;padding-right: 0.2em;padding-left: 0.2em;position: relative;}#sk-container-id-1 div.sk-item {position: relative;z-index: 1;}#sk-container-id-1 div.sk-parallel {display: flex;align-items: stretch;justify-content: center;background-color: white;position: relative;}#sk-container-id-1 div.sk-item::before, #sk-container-id-1 div.sk-parallel-item::before {content: \"\";position: absolute;border-left: 1px solid gray;box-sizing: border-box;top: 0;bottom: 0;left: 50%;z-index: -1;}#sk-container-id-1 div.sk-parallel-item {display: flex;flex-direction: column;z-index: 1;position: relative;background-color: white;}#sk-container-id-1 div.sk-parallel-item:first-child::after {align-self: flex-end;width: 50%;}#sk-container-id-1 div.sk-parallel-item:last-child::after {align-self: flex-start;width: 50%;}#sk-container-id-1 div.sk-parallel-item:only-child::after {width: 0;}#sk-container-id-1 div.sk-dashed-wrapped {border: 1px dashed gray;margin: 0 0.4em 0.5em 0.4em;box-sizing: border-box;padding-bottom: 0.4em;background-color: white;}#sk-container-id-1 div.sk-label label {font-family: monospace;font-weight: bold;display: inline-block;line-height: 1.2em;}#sk-container-id-1 div.sk-label-container {text-align: center;}#sk-container-id-1 div.sk-container {/* jupyter's `normalize.less` sets `[hidden] { display: none; }` but bootstrap.min.css set `[hidden] { display: none !important; }` so we also need the `!important` here to be able to override the default hidden behavior on the sphinx rendered scikit-learn.org. See: https://github.com/scikit-learn/scikit-learn/issues/21755 */display: inline-block !important;position: relative;}#sk-container-id-1 div.sk-text-repr-fallback {display: none;}</style><div id=\"sk-container-id-1\" class=\"sk-top-container\"><div class=\"sk-text-repr-fallback\"><pre>DecisionTreeClassifier()</pre><b>In a Jupyter environment, please rerun this cell to show the HTML representation or trust the notebook. <br />On GitHub, the HTML representation is unable to render, please try loading this page with nbviewer.org.</b></div><div class=\"sk-container\" hidden><div class=\"sk-item\"><div class=\"sk-estimator sk-toggleable\"><input class=\"sk-toggleable__control sk-hidden--visually\" id=\"sk-estimator-id-1\" type=\"checkbox\" checked><label for=\"sk-estimator-id-1\" class=\"sk-toggleable__label sk-toggleable__label-arrow\">DecisionTreeClassifier</label><div class=\"sk-toggleable__content\"><pre>DecisionTreeClassifier()</pre></div></div></div></div></div>"
      ],
      "text/plain": [
       "DecisionTreeClassifier()"
      ]
     },
     "execution_count": 17,
     "metadata": {},
     "output_type": "execute_result"
    }
   ],
   "source": [
    "model.fit(X_train,y_train)"
   ]
  },
  {
   "cell_type": "code",
   "execution_count": 18,
   "id": "decbf459",
   "metadata": {},
   "outputs": [
    {
     "data": {
      "text/plain": [
       "1.0"
      ]
     },
     "execution_count": 18,
     "metadata": {},
     "output_type": "execute_result"
    }
   ],
   "source": [
    "model.score(X_train,y_train)"
   ]
  },
  {
   "cell_type": "code",
   "execution_count": null,
   "id": "63be016a",
   "metadata": {},
   "outputs": [
    {
     "data": {
      "text/plain": [
       "[Text(0.4804011265274949, 0.9705882352941176, 'x[10] <= 10.15\\ngini = 0.645\\nsamples = 910\\nvalue = [7, 31, 389, 359, 114, 10]'),\n",
       " Text(0.21544042769857433, 0.9117647058823529, 'x[6] <= 62.5\\ngini = 0.495\\nsamples = 459\\nvalue = [3, 15, 298, 131, 12, 0]'),\n",
       " Text(0.11328920570264765, 0.8529411764705882, 'x[1] <= 0.548\\ngini = 0.571\\nsamples = 282\\nvalue = [3, 11, 151, 105, 12, 0]'),\n",
       " Text(0.058108452138492875, 0.7941176470588235, 'x[9] <= 0.585\\ngini = 0.596\\nsamples = 136\\nvalue = [1, 4, 52, 68, 11, 0]'),\n",
       " Text(0.020366598778004074, 0.7352941176470589, 'x[7] <= 0.996\\ngini = 0.512\\nsamples = 44\\nvalue = [0, 4, 28, 12, 0, 0]'),\n",
       " Text(0.008146639511201629, 0.6764705882352942, 'x[9] <= 0.435\\ngini = 0.245\\nsamples = 14\\nvalue = [0, 2, 12, 0, 0, 0]'),\n",
       " Text(0.004073319755600814, 0.6176470588235294, 'gini = 0.0\\nsamples = 1\\nvalue = [0, 1, 0, 0, 0, 0]'),\n",
       " Text(0.012219959266802444, 0.6176470588235294, 'x[6] <= 43.0\\ngini = 0.142\\nsamples = 13\\nvalue = [0, 1, 12, 0, 0, 0]'),\n",
       " Text(0.008146639511201629, 0.5588235294117647, 'gini = 0.0\\nsamples = 11\\nvalue = [0, 0, 11, 0, 0, 0]'),\n",
       " Text(0.016293279022403257, 0.5588235294117647, 'x[5] <= 29.0\\ngini = 0.5\\nsamples = 2\\nvalue = [0, 1, 1, 0, 0, 0]'),\n",
       " Text(0.012219959266802444, 0.5, 'gini = 0.0\\nsamples = 1\\nvalue = [0, 1, 0, 0, 0, 0]'),\n",
       " Text(0.020366598778004074, 0.5, 'gini = 0.0\\nsamples = 1\\nvalue = [0, 0, 1, 0, 0, 0]'),\n",
       " Text(0.032586558044806514, 0.6764705882352942, 'x[7] <= 0.996\\ngini = 0.551\\nsamples = 30\\nvalue = [0, 2, 16, 12, 0, 0]'),\n",
       " Text(0.028513238289205704, 0.6176470588235294, 'gini = 0.0\\nsamples = 3\\nvalue = [0, 0, 0, 3, 0, 0]'),\n",
       " Text(0.03665987780040733, 0.6176470588235294, 'x[6] <= 59.0\\ngini = 0.532\\nsamples = 27\\nvalue = [0, 2, 16, 9, 0, 0]'),\n",
       " Text(0.032586558044806514, 0.5588235294117647, 'x[3] <= 3.9\\ngini = 0.506\\nsamples = 25\\nvalue = [0, 2, 16, 7, 0, 0]'),\n",
       " Text(0.028513238289205704, 0.5, 'x[3] <= 1.95\\ngini = 0.469\\nsamples = 24\\nvalue = [0, 1, 16, 7, 0, 0]'),\n",
       " Text(0.024439918533604887, 0.4411764705882353, 'gini = 0.0\\nsamples = 5\\nvalue = [0, 0, 5, 0, 0, 0]'),\n",
       " Text(0.032586558044806514, 0.4411764705882353, 'x[10] <= 9.05\\ngini = 0.526\\nsamples = 19\\nvalue = [0, 1, 11, 7, 0, 0]'),\n",
       " Text(0.028513238289205704, 0.38235294117647056, 'gini = 0.0\\nsamples = 2\\nvalue = [0, 0, 0, 2, 0, 0]'),\n",
       " Text(0.03665987780040733, 0.38235294117647056, 'x[0] <= 10.65\\ngini = 0.491\\nsamples = 17\\nvalue = [0, 1, 11, 5, 0, 0]'),\n",
       " Text(0.032586558044806514, 0.3235294117647059, 'x[6] <= 52.0\\ngini = 0.569\\nsamples = 12\\nvalue = [0, 1, 6, 5, 0, 0]'),\n",
       " Text(0.028513238289205704, 0.2647058823529412, 'x[2] <= 0.145\\ngini = 0.568\\nsamples = 9\\nvalue = [0, 1, 3, 5, 0, 0]'),\n",
       " Text(0.024439918533604887, 0.20588235294117646, 'gini = 0.0\\nsamples = 2\\nvalue = [0, 0, 2, 0, 0, 0]'),\n",
       " Text(0.032586558044806514, 0.20588235294117646, 'x[6] <= 16.0\\ngini = 0.449\\nsamples = 7\\nvalue = [0, 1, 1, 5, 0, 0]'),\n",
       " Text(0.028513238289205704, 0.14705882352941177, 'gini = 0.0\\nsamples = 1\\nvalue = [0, 1, 0, 0, 0, 0]'),\n",
       " Text(0.03665987780040733, 0.14705882352941177, 'x[2] <= 0.505\\ngini = 0.278\\nsamples = 6\\nvalue = [0, 0, 1, 5, 0, 0]'),\n",
       " Text(0.032586558044806514, 0.08823529411764706, 'gini = 0.0\\nsamples = 5\\nvalue = [0, 0, 0, 5, 0, 0]'),\n",
       " Text(0.04073319755600815, 0.08823529411764706, 'gini = 0.0\\nsamples = 1\\nvalue = [0, 0, 1, 0, 0, 0]'),\n",
       " Text(0.03665987780040733, 0.2647058823529412, 'gini = 0.0\\nsamples = 3\\nvalue = [0, 0, 3, 0, 0, 0]'),\n",
       " Text(0.04073319755600815, 0.3235294117647059, 'gini = 0.0\\nsamples = 5\\nvalue = [0, 0, 5, 0, 0, 0]'),\n",
       " Text(0.03665987780040733, 0.5, 'gini = 0.0\\nsamples = 1\\nvalue = [0, 1, 0, 0, 0, 0]'),\n",
       " Text(0.04073319755600815, 0.5588235294117647, 'gini = 0.0\\nsamples = 2\\nvalue = [0, 0, 0, 2, 0, 0]'),\n",
       " Text(0.09585030549898167, 0.7352941176470589, 'x[7] <= 0.996\\ngini = 0.547\\nsamples = 92\\nvalue = [1, 0, 24, 56, 11, 0]'),\n",
       " Text(0.09177698574338086, 0.6764705882352942, 'gini = 0.0\\nsamples = 2\\nvalue = [0, 0, 0, 0, 2, 0]'),\n",
       " Text(0.09992362525458248, 0.6764705882352942, 'x[0] <= 11.35\\ngini = 0.532\\nsamples = 90\\nvalue = [1, 0, 24, 56, 9, 0]'),\n",
       " Text(0.08172097759674135, 0.6176470588235294, 'x[10] <= 9.95\\ngini = 0.533\\nsamples = 75\\nvalue = [1, 0, 24, 45, 5, 0]'),\n",
       " Text(0.057535641547861505, 0.5588235294117647, 'x[9] <= 0.615\\ngini = 0.531\\nsamples = 60\\nvalue = [1, 0, 23, 34, 2, 0]'),\n",
       " Text(0.04480651731160896, 0.5, 'x[10] <= 9.6\\ngini = 0.245\\nsamples = 7\\nvalue = [0, 0, 0, 6, 1, 0]'),\n",
       " Text(0.04073319755600815, 0.4411764705882353, 'gini = 0.0\\nsamples = 6\\nvalue = [0, 0, 0, 6, 0, 0]'),\n",
       " Text(0.048879837067209775, 0.4411764705882353, 'gini = 0.0\\nsamples = 1\\nvalue = [0, 0, 0, 0, 1, 0]'),\n",
       " Text(0.07026476578411406, 0.5, 'x[9] <= 0.645\\ngini = 0.532\\nsamples = 53\\nvalue = [1, 0, 23, 28, 1, 0]'),\n",
       " Text(0.05702647657841141, 0.4411764705882353, 'x[4] <= 0.164\\ngini = 0.461\\nsamples = 16\\nvalue = [0, 0, 11, 4, 1, 0]'),\n",
       " Text(0.05295315682281059, 0.38235294117647056, 'x[8] <= 3.395\\ngini = 0.357\\nsamples = 14\\nvalue = [0, 0, 11, 2, 1, 0]'),\n",
       " Text(0.048879837067209775, 0.3235294117647059, 'x[1] <= 0.51\\ngini = 0.153\\nsamples = 12\\nvalue = [0, 0, 11, 0, 1, 0]'),\n",
       " Text(0.04480651731160896, 0.2647058823529412, 'gini = 0.0\\nsamples = 10\\nvalue = [0, 0, 10, 0, 0, 0]'),\n",
       " Text(0.05295315682281059, 0.2647058823529412, 'x[8] <= 3.385\\ngini = 0.5\\nsamples = 2\\nvalue = [0, 0, 1, 0, 1, 0]'),\n",
       " Text(0.048879837067209775, 0.20588235294117646, 'gini = 0.0\\nsamples = 1\\nvalue = [0, 0, 0, 0, 1, 0]'),\n",
       " Text(0.05702647657841141, 0.20588235294117646, 'gini = 0.0\\nsamples = 1\\nvalue = [0, 0, 1, 0, 0, 0]'),\n",
       " Text(0.05702647657841141, 0.3235294117647059, 'gini = 0.0\\nsamples = 2\\nvalue = [0, 0, 0, 2, 0, 0]'),\n",
       " Text(0.06109979633401222, 0.38235294117647056, 'gini = 0.0\\nsamples = 2\\nvalue = [0, 0, 0, 2, 0, 0]'),\n",
       " Text(0.0835030549898167, 0.4411764705882353, 'x[4] <= 0.084\\ngini = 0.473\\nsamples = 37\\nvalue = [1, 0, 12, 24, 0, 0]'),\n",
       " Text(0.07331975560081466, 0.38235294117647056, 'x[5] <= 22.5\\ngini = 0.278\\nsamples = 18\\nvalue = [0, 0, 3, 15, 0, 0]'),\n",
       " Text(0.06517311608961303, 0.3235294117647059, 'x[2] <= 0.57\\ngini = 0.124\\nsamples = 15\\nvalue = [0, 0, 1, 14, 0, 0]'),\n",
       " Text(0.06109979633401222, 0.2647058823529412, 'gini = 0.0\\nsamples = 14\\nvalue = [0, 0, 0, 14, 0, 0]'),\n",
       " Text(0.06924643584521385, 0.2647058823529412, 'gini = 0.0\\nsamples = 1\\nvalue = [0, 0, 1, 0, 0, 0]'),\n",
       " Text(0.0814663951120163, 0.3235294117647059, 'x[10] <= 9.0\\ngini = 0.444\\nsamples = 3\\nvalue = [0, 0, 2, 1, 0, 0]'),\n",
       " Text(0.07739307535641547, 0.2647058823529412, 'gini = 0.0\\nsamples = 1\\nvalue = [0, 0, 0, 1, 0, 0]'),\n",
       " Text(0.0855397148676171, 0.2647058823529412, 'gini = 0.0\\nsamples = 2\\nvalue = [0, 0, 2, 0, 0, 0]'),\n",
       " Text(0.09368635437881874, 0.38235294117647056, 'x[6] <= 19.5\\ngini = 0.548\\nsamples = 19\\nvalue = [1, 0, 9, 9, 0, 0]'),\n",
       " Text(0.08961303462321792, 0.3235294117647059, 'gini = 0.0\\nsamples = 4\\nvalue = [0, 0, 4, 0, 0, 0]'),\n",
       " Text(0.09775967413441955, 0.3235294117647059, 'x[8] <= 3.445\\ngini = 0.524\\nsamples = 15\\nvalue = [1, 0, 5, 9, 0, 0]'),\n",
       " Text(0.09368635437881874, 0.2647058823529412, 'x[9] <= 1.09\\ngini = 0.462\\nsamples = 13\\nvalue = [1, 0, 3, 9, 0, 0]'),\n",
       " Text(0.08961303462321792, 0.20588235294117646, 'x[3] <= 1.6\\ngini = 0.314\\nsamples = 11\\nvalue = [1, 0, 1, 9, 0, 0]'),\n",
       " Text(0.0855397148676171, 0.14705882352941177, 'x[10] <= 9.7\\ngini = 0.5\\nsamples = 2\\nvalue = [1, 0, 1, 0, 0, 0]'),\n",
       " Text(0.0814663951120163, 0.08823529411764706, 'gini = 0.0\\nsamples = 1\\nvalue = [0, 0, 1, 0, 0, 0]'),\n",
       " Text(0.08961303462321792, 0.08823529411764706, 'gini = 0.0\\nsamples = 1\\nvalue = [1, 0, 0, 0, 0, 0]'),\n",
       " Text(0.09368635437881874, 0.14705882352941177, 'gini = 0.0\\nsamples = 9\\nvalue = [0, 0, 0, 9, 0, 0]'),\n",
       " Text(0.09775967413441955, 0.20588235294117646, 'gini = 0.0\\nsamples = 2\\nvalue = [0, 0, 2, 0, 0, 0]'),\n",
       " Text(0.10183299389002037, 0.2647058823529412, 'gini = 0.0\\nsamples = 2\\nvalue = [0, 0, 2, 0, 0, 0]'),\n",
       " Text(0.10590631364562118, 0.5588235294117647, 'x[6] <= 46.5\\ngini = 0.418\\nsamples = 15\\nvalue = [0, 0, 1, 11, 3, 0]'),\n",
       " Text(0.10183299389002037, 0.5, 'gini = 0.0\\nsamples = 10\\nvalue = [0, 0, 0, 10, 0, 0]'),\n",
       " Text(0.109979633401222, 0.5, 'x[9] <= 0.625\\ngini = 0.56\\nsamples = 5\\nvalue = [0, 0, 1, 1, 3, 0]'),\n",
       " Text(0.10590631364562118, 0.4411764705882353, 'x[5] <= 20.0\\ngini = 0.5\\nsamples = 2\\nvalue = [0, 0, 1, 1, 0, 0]'),\n",
       " Text(0.10183299389002037, 0.38235294117647056, 'gini = 0.0\\nsamples = 1\\nvalue = [0, 0, 1, 0, 0, 0]'),\n",
       " Text(0.109979633401222, 0.38235294117647056, 'gini = 0.0\\nsamples = 1\\nvalue = [0, 0, 0, 1, 0, 0]'),\n",
       " Text(0.11405295315682282, 0.4411764705882353, 'gini = 0.0\\nsamples = 3\\nvalue = [0, 0, 0, 0, 3, 0]'),\n",
       " Text(0.11812627291242363, 0.6176470588235294, 'x[5] <= 8.0\\ngini = 0.391\\nsamples = 15\\nvalue = [0, 0, 0, 11, 4, 0]'),\n",
       " Text(0.11405295315682282, 0.5588235294117647, 'gini = 0.0\\nsamples = 8\\nvalue = [0, 0, 0, 8, 0, 0]'),\n",
       " Text(0.12219959266802444, 0.5588235294117647, 'x[1] <= 0.295\\ngini = 0.49\\nsamples = 7\\nvalue = [0, 0, 0, 3, 4, 0]'),\n",
       " Text(0.11812627291242363, 0.5, 'gini = 0.0\\nsamples = 3\\nvalue = [0, 0, 0, 0, 3, 0]'),\n",
       " Text(0.12627291242362526, 0.5, 'x[1] <= 0.395\\ngini = 0.375\\nsamples = 4\\nvalue = [0, 0, 0, 3, 1, 0]'),\n",
       " Text(0.12219959266802444, 0.4411764705882353, 'gini = 0.0\\nsamples = 3\\nvalue = [0, 0, 0, 3, 0, 0]'),\n",
       " Text(0.13034623217922606, 0.4411764705882353, 'gini = 0.0\\nsamples = 1\\nvalue = [0, 0, 0, 0, 1, 0]'),\n",
       " Text(0.16846995926680244, 0.7941176470588235, 'x[7] <= 0.996\\ngini = 0.473\\nsamples = 146\\nvalue = [2, 7, 99, 37, 1, 0]'),\n",
       " Text(0.140020366598778, 0.7352941176470589, 'x[10] <= 9.15\\ngini = 0.176\\nsamples = 32\\nvalue = [1, 1, 29, 1, 0, 0]'),\n",
       " Text(0.1318737270875764, 0.6764705882352942, 'x[7] <= 0.996\\ngini = 0.5\\nsamples = 2\\nvalue = [0, 1, 0, 1, 0, 0]'),\n",
       " Text(0.12780040733197556, 0.6176470588235294, 'gini = 0.0\\nsamples = 1\\nvalue = [0, 0, 0, 1, 0, 0]'),\n",
       " Text(0.13594704684317718, 0.6176470588235294, 'gini = 0.0\\nsamples = 1\\nvalue = [0, 1, 0, 0, 0, 0]'),\n",
       " Text(0.14816700610997963, 0.6764705882352942, 'x[8] <= 3.515\\ngini = 0.064\\nsamples = 30\\nvalue = [1, 0, 29, 0, 0, 0]'),\n",
       " Text(0.14409368635437883, 0.6176470588235294, 'gini = 0.0\\nsamples = 28\\nvalue = [0, 0, 28, 0, 0, 0]'),\n",
       " Text(0.15224032586558045, 0.6176470588235294, 'x[1] <= 0.688\\ngini = 0.5\\nsamples = 2\\nvalue = [1, 0, 1, 0, 0, 0]'),\n",
       " Text(0.14816700610997963, 0.5588235294117647, 'gini = 0.0\\nsamples = 1\\nvalue = [0, 0, 1, 0, 0, 0]'),\n",
       " Text(0.15631364562118127, 0.5588235294117647, 'gini = 0.0\\nsamples = 1\\nvalue = [1, 0, 0, 0, 0, 0]'),\n",
       " Text(0.19691955193482688, 0.7352941176470589, 'x[10] <= 9.95\\ngini = 0.52\\nsamples = 114\\nvalue = [1, 6, 70, 36, 1, 0]'),\n",
       " Text(0.1779531568228106, 0.6764705882352942, 'x[8] <= 3.195\\ngini = 0.487\\nsamples = 95\\nvalue = [1, 6, 63, 25, 0, 0]'),\n",
       " Text(0.17387983706720977, 0.6176470588235294, 'gini = 0.0\\nsamples = 10\\nvalue = [0, 0, 10, 0, 0, 0]'),\n",
       " Text(0.1820264765784114, 0.6176470588235294, 'x[1] <= 0.688\\ngini = 0.52\\nsamples = 85\\nvalue = [1, 6, 53, 25, 0, 0]'),\n",
       " Text(0.1644602851323829, 0.5588235294117647, 'x[2] <= 0.28\\ngini = 0.544\\nsamples = 54\\nvalue = [1, 2, 29, 22, 0, 0]'),\n",
       " Text(0.15173116089613034, 0.5, 'x[9] <= 0.535\\ngini = 0.491\\nsamples = 51\\nvalue = [0, 0, 29, 22, 0, 0]'),\n",
       " Text(0.1384928716904277, 0.4411764705882353, 'x[10] <= 9.7\\ngini = 0.219\\nsamples = 8\\nvalue = [0, 0, 7, 1, 0, 0]'),\n",
       " Text(0.13441955193482688, 0.38235294117647056, 'gini = 0.0\\nsamples = 7\\nvalue = [0, 0, 7, 0, 0, 0]'),\n",
       " Text(0.1425661914460285, 0.38235294117647056, 'gini = 0.0\\nsamples = 1\\nvalue = [0, 0, 0, 1, 0, 0]'),\n",
       " Text(0.164969450101833, 0.4411764705882353, 'x[2] <= 0.17\\ngini = 0.5\\nsamples = 43\\nvalue = [0, 0, 22, 21, 0, 0]'),\n",
       " Text(0.15071283095723015, 0.38235294117647056, 'x[0] <= 6.95\\ngini = 0.489\\nsamples = 33\\nvalue = [0, 0, 14, 19, 0, 0]'),\n",
       " Text(0.1425661914460285, 0.3235294117647059, 'x[2] <= 0.07\\ngini = 0.278\\nsamples = 6\\nvalue = [0, 0, 5, 1, 0, 0]'),\n",
       " Text(0.1384928716904277, 0.2647058823529412, 'gini = 0.0\\nsamples = 5\\nvalue = [0, 0, 5, 0, 0, 0]'),\n",
       " Text(0.14663951120162932, 0.2647058823529412, 'gini = 0.0\\nsamples = 1\\nvalue = [0, 0, 0, 1, 0, 0]'),\n",
       " Text(0.15885947046843177, 0.3235294117647059, 'x[7] <= 0.997\\ngini = 0.444\\nsamples = 27\\nvalue = [0, 0, 9, 18, 0, 0]'),\n",
       " Text(0.15478615071283094, 0.2647058823529412, 'gini = 0.0\\nsamples = 10\\nvalue = [0, 0, 0, 10, 0, 0]'),\n",
       " Text(0.1629327902240326, 0.2647058823529412, 'x[0] <= 7.25\\ngini = 0.498\\nsamples = 17\\nvalue = [0, 0, 9, 8, 0, 0]'),\n",
       " Text(0.15885947046843177, 0.20588235294117646, 'gini = 0.0\\nsamples = 4\\nvalue = [0, 0, 4, 0, 0, 0]'),\n",
       " Text(0.1670061099796334, 0.20588235294117646, 'x[4] <= 0.077\\ngini = 0.473\\nsamples = 13\\nvalue = [0, 0, 5, 8, 0, 0]'),\n",
       " Text(0.1629327902240326, 0.14705882352941177, 'gini = 0.0\\nsamples = 2\\nvalue = [0, 0, 2, 0, 0, 0]'),\n",
       " Text(0.1710794297352342, 0.14705882352941177, 'x[8] <= 3.3\\ngini = 0.397\\nsamples = 11\\nvalue = [0, 0, 3, 8, 0, 0]'),\n",
       " Text(0.1670061099796334, 0.08823529411764706, 'gini = 0.0\\nsamples = 2\\nvalue = [0, 0, 2, 0, 0, 0]'),\n",
       " Text(0.17515274949083504, 0.08823529411764706, 'x[6] <= 11.5\\ngini = 0.198\\nsamples = 9\\nvalue = [0, 0, 1, 8, 0, 0]'),\n",
       " Text(0.1710794297352342, 0.029411764705882353, 'gini = 0.0\\nsamples = 1\\nvalue = [0, 0, 1, 0, 0, 0]'),\n",
       " Text(0.17922606924643583, 0.029411764705882353, 'gini = 0.0\\nsamples = 8\\nvalue = [0, 0, 0, 8, 0, 0]'),\n",
       " Text(0.17922606924643583, 0.38235294117647056, 'x[6] <= 61.0\\ngini = 0.32\\nsamples = 10\\nvalue = [0, 0, 8, 2, 0, 0]'),\n",
       " Text(0.17515274949083504, 0.3235294117647059, 'x[1] <= 0.555\\ngini = 0.198\\nsamples = 9\\nvalue = [0, 0, 8, 1, 0, 0]'),\n",
       " Text(0.1710794297352342, 0.2647058823529412, 'gini = 0.0\\nsamples = 1\\nvalue = [0, 0, 0, 1, 0, 0]'),\n",
       " Text(0.17922606924643583, 0.2647058823529412, 'gini = 0.0\\nsamples = 8\\nvalue = [0, 0, 8, 0, 0, 0]'),\n",
       " Text(0.18329938900203666, 0.3235294117647059, 'gini = 0.0\\nsamples = 1\\nvalue = [0, 0, 0, 1, 0, 0]'),\n",
       " Text(0.17718940936863545, 0.5, 'x[8] <= 3.255\\ngini = 0.444\\nsamples = 3\\nvalue = [1, 2, 0, 0, 0, 0]'),\n",
       " Text(0.17311608961303462, 0.4411764705882353, 'gini = 0.0\\nsamples = 1\\nvalue = [1, 0, 0, 0, 0, 0]'),\n",
       " Text(0.18126272912423624, 0.4411764705882353, 'gini = 0.0\\nsamples = 2\\nvalue = [0, 2, 0, 0, 0, 0]'),\n",
       " Text(0.19959266802443992, 0.5588235294117647, 'x[9] <= 0.465\\ngini = 0.375\\nsamples = 31\\nvalue = [0, 4, 24, 3, 0, 0]'),\n",
       " Text(0.1955193482688391, 0.5, 'gini = 0.0\\nsamples = 2\\nvalue = [0, 2, 0, 0, 0, 0]'),\n",
       " Text(0.20366598778004075, 0.5, 'x[0] <= 8.75\\ngini = 0.3\\nsamples = 29\\nvalue = [0, 2, 24, 3, 0, 0]'),\n",
       " Text(0.19144602851323828, 0.4411764705882353, 'x[10] <= 9.05\\ngini = 0.15\\nsamples = 25\\nvalue = [0, 1, 23, 1, 0, 0]'),\n",
       " Text(0.18737270875763748, 0.38235294117647056, 'gini = 0.0\\nsamples = 1\\nvalue = [0, 0, 0, 1, 0, 0]'),\n",
       " Text(0.1955193482688391, 0.38235294117647056, 'x[6] <= 12.5\\ngini = 0.08\\nsamples = 24\\nvalue = [0, 1, 23, 0, 0, 0]'),\n",
       " Text(0.19144602851323828, 0.3235294117647059, 'x[6] <= 11.0\\ngini = 0.5\\nsamples = 2\\nvalue = [0, 1, 1, 0, 0, 0]'),\n",
       " Text(0.18737270875763748, 0.2647058823529412, 'gini = 0.0\\nsamples = 1\\nvalue = [0, 0, 1, 0, 0, 0]'),\n",
       " Text(0.1955193482688391, 0.2647058823529412, 'gini = 0.0\\nsamples = 1\\nvalue = [0, 1, 0, 0, 0, 0]'),\n",
       " Text(0.19959266802443992, 0.3235294117647059, 'gini = 0.0\\nsamples = 22\\nvalue = [0, 0, 22, 0, 0, 0]'),\n",
       " Text(0.2158859470468432, 0.4411764705882353, 'x[3] <= 2.45\\ngini = 0.625\\nsamples = 4\\nvalue = [0, 1, 1, 2, 0, 0]'),\n",
       " Text(0.21181262729124237, 0.38235294117647056, 'x[10] <= 9.5\\ngini = 0.5\\nsamples = 2\\nvalue = [0, 1, 1, 0, 0, 0]'),\n",
       " Text(0.20773930753564154, 0.3235294117647059, 'gini = 0.0\\nsamples = 1\\nvalue = [0, 0, 1, 0, 0, 0]'),\n",
       " Text(0.2158859470468432, 0.3235294117647059, 'gini = 0.0\\nsamples = 1\\nvalue = [0, 1, 0, 0, 0, 0]'),\n",
       " Text(0.219959266802444, 0.38235294117647056, 'gini = 0.0\\nsamples = 2\\nvalue = [0, 0, 0, 2, 0, 0]'),\n",
       " Text(0.2158859470468432, 0.6764705882352942, 'x[7] <= 0.997\\ngini = 0.526\\nsamples = 19\\nvalue = [0, 0, 7, 11, 1, 0]'),\n",
       " Text(0.21181262729124237, 0.6176470588235294, 'gini = 0.0\\nsamples = 6\\nvalue = [0, 0, 0, 6, 0, 0]'),\n",
       " Text(0.219959266802444, 0.6176470588235294, 'x[7] <= 0.998\\ngini = 0.556\\nsamples = 13\\nvalue = [0, 0, 7, 5, 1, 0]'),\n",
       " Text(0.2158859470468432, 0.5588235294117647, 'gini = 0.0\\nsamples = 5\\nvalue = [0, 0, 5, 0, 0, 0]'),\n",
       " Text(0.2240325865580448, 0.5588235294117647, 'x[7] <= 0.999\\ngini = 0.531\\nsamples = 8\\nvalue = [0, 0, 2, 5, 1, 0]'),\n",
       " Text(0.219959266802444, 0.5, 'gini = 0.0\\nsamples = 5\\nvalue = [0, 0, 0, 5, 0, 0]'),\n",
       " Text(0.22810590631364563, 0.5, 'x[0] <= 12.35\\ngini = 0.444\\nsamples = 3\\nvalue = [0, 0, 2, 0, 1, 0]'),\n",
       " Text(0.2240325865580448, 0.4411764705882353, 'gini = 0.0\\nsamples = 2\\nvalue = [0, 0, 2, 0, 0, 0]'),\n",
       " Text(0.23217922606924643, 0.4411764705882353, 'gini = 0.0\\nsamples = 1\\nvalue = [0, 0, 0, 0, 1, 0]'),\n",
       " Text(0.31759164969450104, 0.8529411764705882, 'x[6] <= 98.5\\ngini = 0.288\\nsamples = 177\\nvalue = [0, 4, 147, 26, 0, 0]'),\n",
       " Text(0.2858961303462322, 0.7941176470588235, 'x[10] <= 9.45\\ngini = 0.39\\nsamples = 116\\nvalue = [0, 4, 87, 25, 0, 0]'),\n",
       " Text(0.2606924643584521, 0.7352941176470589, 'x[8] <= 3.495\\ngini = 0.222\\nsamples = 49\\nvalue = [0, 2, 43, 4, 0, 0]'),\n",
       " Text(0.2525458248472505, 0.6764705882352942, 'x[4] <= 0.539\\ngini = 0.163\\nsamples = 46\\nvalue = [0, 2, 42, 2, 0, 0]'),\n",
       " Text(0.2484725050916497, 0.6176470588235294, 'x[5] <= 7.0\\ngini = 0.126\\nsamples = 45\\nvalue = [0, 1, 42, 2, 0, 0]'),\n",
       " Text(0.24439918533604887, 0.5588235294117647, 'gini = 0.0\\nsamples = 1\\nvalue = [0, 0, 0, 1, 0, 0]'),\n",
       " Text(0.2525458248472505, 0.5588235294117647, 'x[5] <= 11.5\\ngini = 0.088\\nsamples = 44\\nvalue = [0, 1, 42, 1, 0, 0]'),\n",
       " Text(0.24439918533604887, 0.5, 'x[7] <= 0.997\\ngini = 0.444\\nsamples = 3\\nvalue = [0, 1, 2, 0, 0, 0]'),\n",
       " Text(0.24032586558044808, 0.4411764705882353, 'gini = 0.0\\nsamples = 2\\nvalue = [0, 0, 2, 0, 0, 0]'),\n",
       " Text(0.2484725050916497, 0.4411764705882353, 'gini = 0.0\\nsamples = 1\\nvalue = [0, 1, 0, 0, 0, 0]'),\n",
       " Text(0.2606924643584521, 0.5, 'x[2] <= 0.09\\ngini = 0.048\\nsamples = 41\\nvalue = [0, 0, 40, 1, 0, 0]'),\n",
       " Text(0.25661914460285135, 0.4411764705882353, 'x[8] <= 3.31\\ngini = 0.444\\nsamples = 3\\nvalue = [0, 0, 2, 1, 0, 0]'),\n",
       " Text(0.2525458248472505, 0.38235294117647056, 'gini = 0.0\\nsamples = 2\\nvalue = [0, 0, 2, 0, 0, 0]'),\n",
       " Text(0.2606924643584521, 0.38235294117647056, 'gini = 0.0\\nsamples = 1\\nvalue = [0, 0, 0, 1, 0, 0]'),\n",
       " Text(0.26476578411405294, 0.4411764705882353, 'gini = 0.0\\nsamples = 38\\nvalue = [0, 0, 38, 0, 0, 0]'),\n",
       " Text(0.25661914460285135, 0.6176470588235294, 'gini = 0.0\\nsamples = 1\\nvalue = [0, 1, 0, 0, 0, 0]'),\n",
       " Text(0.26883910386965376, 0.6764705882352942, 'x[3] <= 1.85\\ngini = 0.444\\nsamples = 3\\nvalue = [0, 0, 1, 2, 0, 0]'),\n",
       " Text(0.26476578411405294, 0.6176470588235294, 'gini = 0.0\\nsamples = 1\\nvalue = [0, 0, 1, 0, 0, 0]'),\n",
       " Text(0.2729124236252546, 0.6176470588235294, 'gini = 0.0\\nsamples = 2\\nvalue = [0, 0, 0, 2, 0, 0]'),\n",
       " Text(0.31109979633401225, 0.7352941176470589, 'x[1] <= 0.415\\ngini = 0.47\\nsamples = 67\\nvalue = [0, 2, 44, 21, 0, 0]'),\n",
       " Text(0.2892057026476578, 0.6764705882352942, 'x[2] <= 0.55\\ngini = 0.5\\nsamples = 14\\nvalue = [0, 1, 4, 9, 0, 0]'),\n",
       " Text(0.285132382892057, 0.6176470588235294, 'x[6] <= 82.0\\ngini = 0.403\\nsamples = 12\\nvalue = [0, 1, 2, 9, 0, 0]'),\n",
       " Text(0.28105906313645623, 0.5588235294117647, 'x[8] <= 3.49\\ngini = 0.298\\nsamples = 11\\nvalue = [0, 0, 2, 9, 0, 0]'),\n",
       " Text(0.2769857433808554, 0.5, 'x[1] <= 0.325\\ngini = 0.18\\nsamples = 10\\nvalue = [0, 0, 1, 9, 0, 0]'),\n",
       " Text(0.2729124236252546, 0.4411764705882353, 'gini = 0.0\\nsamples = 1\\nvalue = [0, 0, 1, 0, 0, 0]'),\n",
       " Text(0.28105906313645623, 0.4411764705882353, 'gini = 0.0\\nsamples = 9\\nvalue = [0, 0, 0, 9, 0, 0]'),\n",
       " Text(0.285132382892057, 0.5, 'gini = 0.0\\nsamples = 1\\nvalue = [0, 0, 1, 0, 0, 0]'),\n",
       " Text(0.2892057026476578, 0.5588235294117647, 'gini = 0.0\\nsamples = 1\\nvalue = [0, 1, 0, 0, 0, 0]'),\n",
       " Text(0.29327902240325865, 0.6176470588235294, 'gini = 0.0\\nsamples = 2\\nvalue = [0, 0, 2, 0, 0, 0]'),\n",
       " Text(0.3329938900203666, 0.6764705882352942, 'x[8] <= 3.295\\ngini = 0.379\\nsamples = 53\\nvalue = [0, 1, 40, 12, 0, 0]'),\n",
       " Text(0.31160896130346233, 0.6176470588235294, 'x[8] <= 3.205\\ngini = 0.5\\nsamples = 26\\nvalue = [0, 1, 16, 9, 0, 0]'),\n",
       " Text(0.2973523421588595, 0.5588235294117647, 'x[3] <= 2.85\\ngini = 0.26\\nsamples = 13\\nvalue = [0, 0, 11, 2, 0, 0]'),\n",
       " Text(0.29327902240325865, 0.5, 'gini = 0.0\\nsamples = 10\\nvalue = [0, 0, 10, 0, 0, 0]'),\n",
       " Text(0.3014256619144603, 0.5, 'x[7] <= 0.996\\ngini = 0.444\\nsamples = 3\\nvalue = [0, 0, 1, 2, 0, 0]'),\n",
       " Text(0.2973523421588595, 0.4411764705882353, 'gini = 0.0\\nsamples = 1\\nvalue = [0, 0, 1, 0, 0, 0]'),\n",
       " Text(0.3054989816700611, 0.4411764705882353, 'gini = 0.0\\nsamples = 2\\nvalue = [0, 0, 0, 2, 0, 0]'),\n",
       " Text(0.3258655804480652, 0.5588235294117647, 'x[3] <= 2.4\\ngini = 0.556\\nsamples = 13\\nvalue = [0, 1, 5, 7, 0, 0]'),\n",
       " Text(0.31771894093686354, 0.5, 'x[6] <= 63.5\\ngini = 0.278\\nsamples = 6\\nvalue = [0, 1, 0, 5, 0, 0]'),\n",
       " Text(0.3136456211812627, 0.4411764705882353, 'gini = 0.0\\nsamples = 1\\nvalue = [0, 1, 0, 0, 0, 0]'),\n",
       " Text(0.32179226069246436, 0.4411764705882353, 'gini = 0.0\\nsamples = 5\\nvalue = [0, 0, 0, 5, 0, 0]'),\n",
       " Text(0.3340122199592668, 0.5, 'x[1] <= 0.62\\ngini = 0.408\\nsamples = 7\\nvalue = [0, 0, 5, 2, 0, 0]'),\n",
       " Text(0.329938900203666, 0.4411764705882353, 'x[6] <= 80.0\\ngini = 0.444\\nsamples = 3\\nvalue = [0, 0, 1, 2, 0, 0]'),\n",
       " Text(0.3258655804480652, 0.38235294117647056, 'gini = 0.0\\nsamples = 2\\nvalue = [0, 0, 0, 2, 0, 0]'),\n",
       " Text(0.3340122199592668, 0.38235294117647056, 'gini = 0.0\\nsamples = 1\\nvalue = [0, 0, 1, 0, 0, 0]'),\n",
       " Text(0.3380855397148676, 0.4411764705882353, 'gini = 0.0\\nsamples = 4\\nvalue = [0, 0, 4, 0, 0, 0]'),\n",
       " Text(0.3543788187372709, 0.6176470588235294, 'x[2] <= 0.025\\ngini = 0.198\\nsamples = 27\\nvalue = [0, 0, 24, 3, 0, 0]'),\n",
       " Text(0.34623217922606925, 0.5588235294117647, 'x[10] <= 9.75\\ngini = 0.48\\nsamples = 5\\nvalue = [0, 0, 3, 2, 0, 0]'),\n",
       " Text(0.3421588594704684, 0.5, 'gini = 0.0\\nsamples = 2\\nvalue = [0, 0, 0, 2, 0, 0]'),\n",
       " Text(0.35030549898167007, 0.5, 'gini = 0.0\\nsamples = 3\\nvalue = [0, 0, 3, 0, 0, 0]'),\n",
       " Text(0.3625254582484725, 0.5588235294117647, 'x[6] <= 97.0\\ngini = 0.087\\nsamples = 22\\nvalue = [0, 0, 21, 1, 0, 0]'),\n",
       " Text(0.35845213849287166, 0.5, 'gini = 0.0\\nsamples = 19\\nvalue = [0, 0, 19, 0, 0, 0]'),\n",
       " Text(0.3665987780040733, 0.5, 'x[3] <= 2.75\\ngini = 0.444\\nsamples = 3\\nvalue = [0, 0, 2, 1, 0, 0]'),\n",
       " Text(0.3625254582484725, 0.4411764705882353, 'gini = 0.0\\nsamples = 2\\nvalue = [0, 0, 2, 0, 0, 0]'),\n",
       " Text(0.37067209775967414, 0.4411764705882353, 'gini = 0.0\\nsamples = 1\\nvalue = [0, 0, 0, 1, 0, 0]'),\n",
       " Text(0.34928716904276985, 0.7941176470588235, 'x[4] <= 0.067\\ngini = 0.032\\nsamples = 61\\nvalue = [0, 0, 60, 1, 0, 0]'),\n",
       " Text(0.34521384928716903, 0.7352941176470589, 'x[2] <= 0.29\\ngini = 0.5\\nsamples = 2\\nvalue = [0, 0, 1, 1, 0, 0]'),\n",
       " Text(0.3411405295315682, 0.6764705882352942, 'gini = 0.0\\nsamples = 1\\nvalue = [0, 0, 0, 1, 0, 0]'),\n",
       " Text(0.34928716904276985, 0.6764705882352942, 'gini = 0.0\\nsamples = 1\\nvalue = [0, 0, 1, 0, 0, 0]'),\n",
       " Text(0.3533604887983707, 0.7352941176470589, 'gini = 0.0\\nsamples = 59\\nvalue = [0, 0, 59, 0, 0, 0]'),\n",
       " Text(0.7453618253564155, 0.9117647058823529, 'x[9] <= 0.675\\ngini = 0.651\\nsamples = 451\\nvalue = [4, 16, 91, 228, 102, 10]'),\n",
       " Text(0.5845850305498982, 0.8529411764705882, 'x[10] <= 11.45\\ngini = 0.636\\nsamples = 250\\nvalue = [4, 16, 69, 130, 29, 2]'),\n",
       " Text(0.49910896130346233, 0.7941176470588235, 'x[1] <= 0.827\\ngini = 0.649\\nsamples = 157\\nvalue = [4, 13, 60, 69, 10, 1]'),\n",
       " Text(0.42591649694501016, 0.7352941176470589, 'x[3] <= 1.85\\ngini = 0.589\\nsamples = 134\\nvalue = [0, 3, 54, 66, 10, 1]'),\n",
       " Text(0.3910386965376782, 0.6764705882352942, 'x[8] <= 3.355\\ngini = 0.544\\nsamples = 26\\nvalue = [0, 0, 16, 6, 4, 0]'),\n",
       " Text(0.38289205702647655, 0.6176470588235294, 'x[2] <= 0.405\\ngini = 0.661\\nsamples = 11\\nvalue = [0, 0, 3, 4, 4, 0]'),\n",
       " Text(0.3788187372708758, 0.5588235294117647, 'x[6] <= 32.5\\ngini = 0.5\\nsamples = 8\\nvalue = [0, 0, 0, 4, 4, 0]'),\n",
       " Text(0.37474541751527496, 0.5, 'gini = 0.0\\nsamples = 4\\nvalue = [0, 0, 0, 0, 4, 0]'),\n",
       " Text(0.38289205702647655, 0.5, 'gini = 0.0\\nsamples = 4\\nvalue = [0, 0, 0, 4, 0, 0]'),\n",
       " Text(0.3869653767820774, 0.5588235294117647, 'gini = 0.0\\nsamples = 3\\nvalue = [0, 0, 3, 0, 0, 0]'),\n",
       " Text(0.39918533604887985, 0.6176470588235294, 'x[8] <= 3.4\\ngini = 0.231\\nsamples = 15\\nvalue = [0, 0, 13, 2, 0, 0]'),\n",
       " Text(0.395112016293279, 0.5588235294117647, 'x[4] <= 0.074\\ngini = 0.444\\nsamples = 6\\nvalue = [0, 0, 4, 2, 0, 0]'),\n",
       " Text(0.3910386965376782, 0.5, 'gini = 0.0\\nsamples = 3\\nvalue = [0, 0, 3, 0, 0, 0]'),\n",
       " Text(0.39918533604887985, 0.5, 'x[8] <= 3.365\\ngini = 0.444\\nsamples = 3\\nvalue = [0, 0, 1, 2, 0, 0]'),\n",
       " Text(0.395112016293279, 0.4411764705882353, 'gini = 0.0\\nsamples = 1\\nvalue = [0, 0, 1, 0, 0, 0]'),\n",
       " Text(0.40325865580448067, 0.4411764705882353, 'gini = 0.0\\nsamples = 2\\nvalue = [0, 0, 0, 2, 0, 0]'),\n",
       " Text(0.40325865580448067, 0.5588235294117647, 'gini = 0.0\\nsamples = 9\\nvalue = [0, 0, 9, 0, 0, 0]'),\n",
       " Text(0.4607942973523422, 0.6764705882352942, 'x[7] <= 0.996\\ngini = 0.564\\nsamples = 108\\nvalue = [0, 3, 38, 60, 6, 1]'),\n",
       " Text(0.4154786150712831, 0.6176470588235294, 'x[9] <= 0.525\\ngini = 0.373\\nsamples = 38\\nvalue = [0, 0, 8, 29, 1, 0]'),\n",
       " Text(0.41140529531568226, 0.5588235294117647, 'gini = 0.0\\nsamples = 3\\nvalue = [0, 0, 3, 0, 0, 0]'),\n",
       " Text(0.4195519348268839, 0.5588235294117647, 'x[6] <= 9.0\\ngini = 0.292\\nsamples = 35\\nvalue = [0, 0, 5, 29, 1, 0]'),\n",
       " Text(0.4154786150712831, 0.5, 'gini = 0.0\\nsamples = 1\\nvalue = [0, 0, 0, 0, 1, 0]'),\n",
       " Text(0.42362525458248473, 0.5, 'x[7] <= 0.995\\ngini = 0.251\\nsamples = 34\\nvalue = [0, 0, 5, 29, 0, 0]'),\n",
       " Text(0.4134419551934827, 0.4411764705882353, 'x[5] <= 17.5\\ngini = 0.5\\nsamples = 4\\nvalue = [0, 0, 2, 2, 0, 0]'),\n",
       " Text(0.4093686354378819, 0.38235294117647056, 'gini = 0.0\\nsamples = 2\\nvalue = [0, 0, 0, 2, 0, 0]'),\n",
       " Text(0.4175152749490835, 0.38235294117647056, 'gini = 0.0\\nsamples = 2\\nvalue = [0, 0, 2, 0, 0, 0]'),\n",
       " Text(0.43380855397148677, 0.4411764705882353, 'x[5] <= 7.0\\ngini = 0.18\\nsamples = 30\\nvalue = [0, 0, 3, 27, 0, 0]'),\n",
       " Text(0.4256619144602851, 0.38235294117647056, 'x[4] <= 0.096\\ngini = 0.444\\nsamples = 6\\nvalue = [0, 0, 2, 4, 0, 0]'),\n",
       " Text(0.4215885947046843, 0.3235294117647059, 'x[6] <= 17.0\\ngini = 0.444\\nsamples = 3\\nvalue = [0, 0, 2, 1, 0, 0]'),\n",
       " Text(0.4175152749490835, 0.2647058823529412, 'gini = 0.0\\nsamples = 1\\nvalue = [0, 0, 0, 1, 0, 0]'),\n",
       " Text(0.4256619144602851, 0.2647058823529412, 'gini = 0.0\\nsamples = 2\\nvalue = [0, 0, 2, 0, 0, 0]'),\n",
       " Text(0.42973523421588594, 0.3235294117647059, 'gini = 0.0\\nsamples = 3\\nvalue = [0, 0, 0, 3, 0, 0]'),\n",
       " Text(0.4419551934826884, 0.38235294117647056, 'x[6] <= 26.5\\ngini = 0.08\\nsamples = 24\\nvalue = [0, 0, 1, 23, 0, 0]'),\n",
       " Text(0.4378818737270876, 0.3235294117647059, 'x[4] <= 0.073\\ngini = 0.32\\nsamples = 5\\nvalue = [0, 0, 1, 4, 0, 0]'),\n",
       " Text(0.43380855397148677, 0.2647058823529412, 'gini = 0.0\\nsamples = 1\\nvalue = [0, 0, 1, 0, 0, 0]'),\n",
       " Text(0.4419551934826884, 0.2647058823529412, 'gini = 0.0\\nsamples = 4\\nvalue = [0, 0, 0, 4, 0, 0]'),\n",
       " Text(0.4460285132382892, 0.3235294117647059, 'gini = 0.0\\nsamples = 19\\nvalue = [0, 0, 0, 19, 0, 0]'),\n",
       " Text(0.5061099796334012, 0.6176470588235294, 'x[6] <= 42.5\\ngini = 0.613\\nsamples = 70\\nvalue = [0, 3, 30, 31, 5, 1]'),\n",
       " Text(0.48065173116089616, 0.5588235294117647, 'x[3] <= 2.15\\ngini = 0.629\\nsamples = 46\\nvalue = [0, 2, 23, 15, 5, 1]'),\n",
       " Text(0.4725050916496945, 0.5, 'x[1] <= 0.27\\ngini = 0.278\\nsamples = 6\\nvalue = [0, 0, 1, 5, 0, 0]'),\n",
       " Text(0.4684317718940937, 0.4411764705882353, 'gini = 0.0\\nsamples = 1\\nvalue = [0, 0, 1, 0, 0, 0]'),\n",
       " Text(0.47657841140529533, 0.4411764705882353, 'gini = 0.0\\nsamples = 5\\nvalue = [0, 0, 0, 5, 0, 0]'),\n",
       " Text(0.48879837067209775, 0.5, 'x[1] <= 0.78\\ngini = 0.616\\nsamples = 40\\nvalue = [0, 2, 22, 10, 5, 1]'),\n",
       " Text(0.4847250509164969, 0.4411764705882353, 'x[10] <= 10.55\\ngini = 0.6\\nsamples = 38\\nvalue = [0, 2, 22, 8, 5, 1]'),\n",
       " Text(0.4623217922606925, 0.38235294117647056, 'x[6] <= 37.5\\ngini = 0.32\\nsamples = 16\\nvalue = [0, 0, 13, 2, 1, 0]'),\n",
       " Text(0.45417515274949083, 0.3235294117647059, 'x[8] <= 3.485\\ngini = 0.142\\nsamples = 13\\nvalue = [0, 0, 12, 0, 1, 0]'),\n",
       " Text(0.45010183299389, 0.2647058823529412, 'gini = 0.0\\nsamples = 12\\nvalue = [0, 0, 12, 0, 0, 0]'),\n",
       " Text(0.45824847250509165, 0.2647058823529412, 'gini = 0.0\\nsamples = 1\\nvalue = [0, 0, 0, 0, 1, 0]'),\n",
       " Text(0.47046843177189407, 0.3235294117647059, 'x[2] <= 0.565\\ngini = 0.444\\nsamples = 3\\nvalue = [0, 0, 1, 2, 0, 0]'),\n",
       " Text(0.4663951120162933, 0.2647058823529412, 'gini = 0.0\\nsamples = 2\\nvalue = [0, 0, 0, 2, 0, 0]'),\n",
       " Text(0.4745417515274949, 0.2647058823529412, 'gini = 0.0\\nsamples = 1\\nvalue = [0, 0, 1, 0, 0, 0]'),\n",
       " Text(0.5071283095723014, 0.38235294117647056, 'x[9] <= 0.625\\ngini = 0.715\\nsamples = 22\\nvalue = [0, 2, 9, 6, 4, 1]'),\n",
       " Text(0.4908350305498982, 0.3235294117647059, 'x[4] <= 0.081\\ngini = 0.602\\nsamples = 16\\nvalue = [0, 1, 8, 6, 1, 0]'),\n",
       " Text(0.48268839103869654, 0.2647058823529412, 'x[7] <= 0.996\\ngini = 0.449\\nsamples = 7\\nvalue = [0, 1, 5, 0, 1, 0]'),\n",
       " Text(0.4786150712830957, 0.20588235294117646, 'gini = 0.0\\nsamples = 1\\nvalue = [0, 0, 0, 0, 1, 0]'),\n",
       " Text(0.48676171079429736, 0.20588235294117646, 'x[6] <= 11.0\\ngini = 0.278\\nsamples = 6\\nvalue = [0, 1, 5, 0, 0, 0]'),\n",
       " Text(0.48268839103869654, 0.14705882352941177, 'x[4] <= 0.069\\ngini = 0.5\\nsamples = 2\\nvalue = [0, 1, 1, 0, 0, 0]'),\n",
       " Text(0.4786150712830957, 0.08823529411764706, 'gini = 0.0\\nsamples = 1\\nvalue = [0, 1, 0, 0, 0, 0]'),\n",
       " Text(0.48676171079429736, 0.08823529411764706, 'gini = 0.0\\nsamples = 1\\nvalue = [0, 0, 1, 0, 0, 0]'),\n",
       " Text(0.4908350305498982, 0.14705882352941177, 'gini = 0.0\\nsamples = 4\\nvalue = [0, 0, 4, 0, 0, 0]'),\n",
       " Text(0.4989816700610998, 0.2647058823529412, 'x[4] <= 0.094\\ngini = 0.444\\nsamples = 9\\nvalue = [0, 0, 3, 6, 0, 0]'),\n",
       " Text(0.49490835030549896, 0.20588235294117646, 'gini = 0.0\\nsamples = 4\\nvalue = [0, 0, 0, 4, 0, 0]'),\n",
       " Text(0.5030549898167006, 0.20588235294117646, 'x[9] <= 0.565\\ngini = 0.48\\nsamples = 5\\nvalue = [0, 0, 3, 2, 0, 0]'),\n",
       " Text(0.4989816700610998, 0.14705882352941177, 'gini = 0.0\\nsamples = 2\\nvalue = [0, 0, 2, 0, 0, 0]'),\n",
       " Text(0.5071283095723014, 0.14705882352941177, 'x[7] <= 0.999\\ngini = 0.444\\nsamples = 3\\nvalue = [0, 0, 1, 2, 0, 0]'),\n",
       " Text(0.5030549898167006, 0.08823529411764706, 'gini = 0.0\\nsamples = 2\\nvalue = [0, 0, 0, 2, 0, 0]'),\n",
       " Text(0.5112016293279023, 0.08823529411764706, 'gini = 0.0\\nsamples = 1\\nvalue = [0, 0, 1, 0, 0, 0]'),\n",
       " Text(0.5234215885947047, 0.3235294117647059, 'x[8] <= 3.165\\ngini = 0.667\\nsamples = 6\\nvalue = [0, 1, 1, 0, 3, 1]'),\n",
       " Text(0.515274949083503, 0.2647058823529412, 'x[7] <= 0.997\\ngini = 0.5\\nsamples = 2\\nvalue = [0, 0, 1, 0, 0, 1]'),\n",
       " Text(0.5112016293279023, 0.20588235294117646, 'gini = 0.0\\nsamples = 1\\nvalue = [0, 0, 0, 0, 0, 1]'),\n",
       " Text(0.5193482688391039, 0.20588235294117646, 'gini = 0.0\\nsamples = 1\\nvalue = [0, 0, 1, 0, 0, 0]'),\n",
       " Text(0.5315682281059063, 0.2647058823529412, 'x[2] <= 0.195\\ngini = 0.375\\nsamples = 4\\nvalue = [0, 1, 0, 0, 3, 0]'),\n",
       " Text(0.5274949083503055, 0.20588235294117646, 'gini = 0.0\\nsamples = 1\\nvalue = [0, 1, 0, 0, 0, 0]'),\n",
       " Text(0.5356415478615071, 0.20588235294117646, 'gini = 0.0\\nsamples = 3\\nvalue = [0, 0, 0, 0, 3, 0]'),\n",
       " Text(0.49287169042769857, 0.4411764705882353, 'gini = 0.0\\nsamples = 2\\nvalue = [0, 0, 0, 2, 0, 0]'),\n",
       " Text(0.5315682281059063, 0.5588235294117647, 'x[3] <= 2.05\\ngini = 0.469\\nsamples = 24\\nvalue = [0, 1, 7, 16, 0, 0]'),\n",
       " Text(0.5234215885947047, 0.5, 'x[4] <= 0.091\\ngini = 0.32\\nsamples = 5\\nvalue = [0, 1, 4, 0, 0, 0]'),\n",
       " Text(0.5193482688391039, 0.4411764705882353, 'x[4] <= 0.088\\ngini = 0.5\\nsamples = 2\\nvalue = [0, 1, 1, 0, 0, 0]'),\n",
       " Text(0.515274949083503, 0.38235294117647056, 'gini = 0.0\\nsamples = 1\\nvalue = [0, 0, 1, 0, 0, 0]'),\n",
       " Text(0.5234215885947047, 0.38235294117647056, 'gini = 0.0\\nsamples = 1\\nvalue = [0, 1, 0, 0, 0, 0]'),\n",
       " Text(0.5274949083503055, 0.4411764705882353, 'gini = 0.0\\nsamples = 3\\nvalue = [0, 0, 3, 0, 0, 0]'),\n",
       " Text(0.539714867617108, 0.5, 'x[5] <= 27.5\\ngini = 0.266\\nsamples = 19\\nvalue = [0, 0, 3, 16, 0, 0]'),\n",
       " Text(0.5356415478615071, 0.4411764705882353, 'gini = 0.0\\nsamples = 14\\nvalue = [0, 0, 0, 14, 0, 0]'),\n",
       " Text(0.5437881873727087, 0.4411764705882353, 'x[3] <= 2.85\\ngini = 0.48\\nsamples = 5\\nvalue = [0, 0, 3, 2, 0, 0]'),\n",
       " Text(0.539714867617108, 0.38235294117647056, 'gini = 0.0\\nsamples = 3\\nvalue = [0, 0, 3, 0, 0, 0]'),\n",
       " Text(0.5478615071283096, 0.38235294117647056, 'gini = 0.0\\nsamples = 2\\nvalue = [0, 0, 0, 2, 0, 0]'),\n",
       " Text(0.5723014256619144, 0.7352941176470589, 'x[10] <= 10.95\\ngini = 0.696\\nsamples = 23\\nvalue = [4, 10, 6, 3, 0, 0]'),\n",
       " Text(0.560081466395112, 0.6764705882352942, 'x[4] <= 0.075\\ngini = 0.722\\nsamples = 13\\nvalue = [3, 2, 5, 3, 0, 0]'),\n",
       " Text(0.5478615071283096, 0.6176470588235294, 'x[1] <= 0.905\\ngini = 0.48\\nsamples = 5\\nvalue = [0, 2, 0, 3, 0, 0]'),\n",
       " Text(0.5437881873727087, 0.5588235294117647, 'gini = 0.0\\nsamples = 2\\nvalue = [0, 0, 0, 2, 0, 0]'),\n",
       " Text(0.5519348268839104, 0.5588235294117647, 'x[0] <= 7.3\\ngini = 0.444\\nsamples = 3\\nvalue = [0, 2, 0, 1, 0, 0]'),\n",
       " Text(0.5478615071283096, 0.5, 'gini = 0.0\\nsamples = 2\\nvalue = [0, 2, 0, 0, 0, 0]'),\n",
       " Text(0.5560081466395111, 0.5, 'gini = 0.0\\nsamples = 1\\nvalue = [0, 0, 0, 1, 0, 0]'),\n",
       " Text(0.5723014256619144, 0.6176470588235294, 'x[3] <= 3.275\\ngini = 0.469\\nsamples = 8\\nvalue = [3, 0, 5, 0, 0, 0]'),\n",
       " Text(0.5682281059063137, 0.5588235294117647, 'x[7] <= 0.995\\ngini = 0.278\\nsamples = 6\\nvalue = [1, 0, 5, 0, 0, 0]'),\n",
       " Text(0.5641547861507128, 0.5, 'gini = 0.0\\nsamples = 1\\nvalue = [1, 0, 0, 0, 0, 0]'),\n",
       " Text(0.5723014256619144, 0.5, 'gini = 0.0\\nsamples = 5\\nvalue = [0, 0, 5, 0, 0, 0]'),\n",
       " Text(0.5763747454175153, 0.5588235294117647, 'gini = 0.0\\nsamples = 2\\nvalue = [2, 0, 0, 0, 0, 0]'),\n",
       " Text(0.5845213849287169, 0.6764705882352942, 'x[6] <= 11.5\\ngini = 0.34\\nsamples = 10\\nvalue = [1, 8, 1, 0, 0, 0]'),\n",
       " Text(0.5804480651731161, 0.6176470588235294, 'gini = 0.0\\nsamples = 1\\nvalue = [1, 0, 0, 0, 0, 0]'),\n",
       " Text(0.5885947046843177, 0.6176470588235294, 'x[2] <= 0.255\\ngini = 0.198\\nsamples = 9\\nvalue = [0, 8, 1, 0, 0, 0]'),\n",
       " Text(0.5845213849287169, 0.5588235294117647, 'gini = 0.0\\nsamples = 8\\nvalue = [0, 8, 0, 0, 0, 0]'),\n",
       " Text(0.5926680244399185, 0.5588235294117647, 'gini = 0.0\\nsamples = 1\\nvalue = [0, 0, 1, 0, 0, 0]'),\n",
       " Text(0.670061099796334, 0.7941176470588235, 'x[3] <= 4.5\\ngini = 0.518\\nsamples = 93\\nvalue = [0, 3, 9, 61, 19, 1]'),\n",
       " Text(0.6415478615071283, 0.7352941176470589, 'x[6] <= 15.5\\ngini = 0.442\\nsamples = 80\\nvalue = [0, 1, 8, 58, 12, 1]'),\n",
       " Text(0.615071283095723, 0.6764705882352942, 'x[9] <= 0.545\\ngini = 0.626\\nsamples = 19\\nvalue = [0, 1, 2, 9, 7, 0]'),\n",
       " Text(0.604887983706721, 0.6176470588235294, 'x[9] <= 0.44\\ngini = 0.245\\nsamples = 7\\nvalue = [0, 0, 1, 6, 0, 0]'),\n",
       " Text(0.6008146639511202, 0.5588235294117647, 'gini = 0.0\\nsamples = 1\\nvalue = [0, 0, 1, 0, 0, 0]'),\n",
       " Text(0.6089613034623218, 0.5588235294117647, 'gini = 0.0\\nsamples = 6\\nvalue = [0, 0, 0, 6, 0, 0]'),\n",
       " Text(0.6252545824847251, 0.6176470588235294, 'x[7] <= 0.995\\ngini = 0.583\\nsamples = 12\\nvalue = [0, 1, 1, 3, 7, 0]'),\n",
       " Text(0.6171079429735234, 0.5588235294117647, 'x[10] <= 12.85\\ngini = 0.245\\nsamples = 7\\nvalue = [0, 0, 1, 0, 6, 0]'),\n",
       " Text(0.6130346232179226, 0.5, 'gini = 0.0\\nsamples = 6\\nvalue = [0, 0, 0, 0, 6, 0]'),\n",
       " Text(0.6211812627291242, 0.5, 'gini = 0.0\\nsamples = 1\\nvalue = [0, 0, 1, 0, 0, 0]'),\n",
       " Text(0.6334012219959266, 0.5588235294117647, 'x[1] <= 0.54\\ngini = 0.56\\nsamples = 5\\nvalue = [0, 1, 0, 3, 1, 0]'),\n",
       " Text(0.6293279022403259, 0.5, 'x[5] <= 5.5\\ngini = 0.375\\nsamples = 4\\nvalue = [0, 0, 0, 3, 1, 0]'),\n",
       " Text(0.6252545824847251, 0.4411764705882353, 'gini = 0.0\\nsamples = 3\\nvalue = [0, 0, 0, 3, 0, 0]'),\n",
       " Text(0.6334012219959266, 0.4411764705882353, 'gini = 0.0\\nsamples = 1\\nvalue = [0, 0, 0, 0, 1, 0]'),\n",
       " Text(0.6374745417515275, 0.5, 'gini = 0.0\\nsamples = 1\\nvalue = [0, 1, 0, 0, 0, 0]'),\n",
       " Text(0.6680244399185336, 0.6764705882352942, 'x[5] <= 41.25\\ngini = 0.338\\nsamples = 61\\nvalue = [0, 0, 6, 49, 5, 1]'),\n",
       " Text(0.6639511201629328, 0.6176470588235294, 'x[4] <= 0.058\\ngini = 0.316\\nsamples = 60\\nvalue = [0, 0, 6, 49, 5, 0]'),\n",
       " Text(0.6537678207739308, 0.5588235294117647, 'x[5] <= 14.0\\ngini = 0.475\\nsamples = 18\\nvalue = [0, 0, 5, 12, 1, 0]'),\n",
       " Text(0.6456211812627292, 0.5, 'x[2] <= 0.305\\ngini = 0.444\\nsamples = 6\\nvalue = [0, 0, 4, 2, 0, 0]'),\n",
       " Text(0.6415478615071283, 0.4411764705882353, 'gini = 0.0\\nsamples = 4\\nvalue = [0, 0, 4, 0, 0, 0]'),\n",
       " Text(0.6496945010183299, 0.4411764705882353, 'gini = 0.0\\nsamples = 2\\nvalue = [0, 0, 0, 2, 0, 0]'),\n",
       " Text(0.6619144602851323, 0.5, 'x[10] <= 12.9\\ngini = 0.292\\nsamples = 12\\nvalue = [0, 0, 1, 10, 1, 0]'),\n",
       " Text(0.6578411405295316, 0.4411764705882353, 'x[6] <= 97.0\\ngini = 0.165\\nsamples = 11\\nvalue = [0, 0, 0, 10, 1, 0]'),\n",
       " Text(0.6537678207739308, 0.38235294117647056, 'gini = 0.0\\nsamples = 9\\nvalue = [0, 0, 0, 9, 0, 0]'),\n",
       " Text(0.6619144602851323, 0.38235294117647056, 'x[4] <= 0.052\\ngini = 0.5\\nsamples = 2\\nvalue = [0, 0, 0, 1, 1, 0]'),\n",
       " Text(0.6578411405295316, 0.3235294117647059, 'gini = 0.0\\nsamples = 1\\nvalue = [0, 0, 0, 1, 0, 0]'),\n",
       " Text(0.6659877800407332, 0.3235294117647059, 'gini = 0.0\\nsamples = 1\\nvalue = [0, 0, 0, 0, 1, 0]'),\n",
       " Text(0.6659877800407332, 0.4411764705882353, 'gini = 0.0\\nsamples = 1\\nvalue = [0, 0, 1, 0, 0, 0]'),\n",
       " Text(0.6741344195519349, 0.5588235294117647, 'x[9] <= 0.605\\ngini = 0.214\\nsamples = 42\\nvalue = [0, 0, 1, 37, 4, 0]'),\n",
       " Text(0.670061099796334, 0.5, 'gini = 0.0\\nsamples = 24\\nvalue = [0, 0, 0, 24, 0, 0]'),\n",
       " Text(0.6782077393075356, 0.5, 'x[10] <= 12.35\\ngini = 0.426\\nsamples = 18\\nvalue = [0, 0, 1, 13, 4, 0]'),\n",
       " Text(0.6741344195519349, 0.4411764705882353, 'x[7] <= 0.995\\ngini = 0.58\\nsamples = 10\\nvalue = [0, 0, 1, 5, 4, 0]'),\n",
       " Text(0.670061099796334, 0.38235294117647056, 'gini = 0.0\\nsamples = 2\\nvalue = [0, 0, 0, 0, 2, 0]'),\n",
       " Text(0.6782077393075356, 0.38235294117647056, 'x[3] <= 2.475\\ngini = 0.531\\nsamples = 8\\nvalue = [0, 0, 1, 5, 2, 0]'),\n",
       " Text(0.6741344195519349, 0.3235294117647059, 'gini = 0.0\\nsamples = 4\\nvalue = [0, 0, 0, 4, 0, 0]'),\n",
       " Text(0.6822810590631364, 0.3235294117647059, 'x[7] <= 0.996\\ngini = 0.625\\nsamples = 4\\nvalue = [0, 0, 1, 1, 2, 0]'),\n",
       " Text(0.6782077393075356, 0.2647058823529412, 'gini = 0.0\\nsamples = 2\\nvalue = [0, 0, 0, 0, 2, 0]'),\n",
       " Text(0.6863543788187373, 0.2647058823529412, 'x[0] <= 8.6\\ngini = 0.5\\nsamples = 2\\nvalue = [0, 0, 1, 1, 0, 0]'),\n",
       " Text(0.6822810590631364, 0.20588235294117646, 'gini = 0.0\\nsamples = 1\\nvalue = [0, 0, 0, 1, 0, 0]'),\n",
       " Text(0.6904276985743381, 0.20588235294117646, 'gini = 0.0\\nsamples = 1\\nvalue = [0, 0, 1, 0, 0, 0]'),\n",
       " Text(0.6822810590631364, 0.4411764705882353, 'gini = 0.0\\nsamples = 8\\nvalue = [0, 0, 0, 8, 0, 0]'),\n",
       " Text(0.6720977596741344, 0.6176470588235294, 'gini = 0.0\\nsamples = 1\\nvalue = [0, 0, 0, 0, 0, 1]'),\n",
       " Text(0.6985743380855397, 0.7352941176470589, 'x[2] <= 0.405\\ngini = 0.627\\nsamples = 13\\nvalue = [0, 2, 1, 3, 7, 0]'),\n",
       " Text(0.6904276985743381, 0.6764705882352942, 'x[5] <= 9.5\\ngini = 0.64\\nsamples = 5\\nvalue = [0, 2, 1, 2, 0, 0]'),\n",
       " Text(0.6863543788187373, 0.6176470588235294, 'x[10] <= 12.1\\ngini = 0.444\\nsamples = 3\\nvalue = [0, 2, 1, 0, 0, 0]'),\n",
       " Text(0.6822810590631364, 0.5588235294117647, 'gini = 0.0\\nsamples = 2\\nvalue = [0, 2, 0, 0, 0, 0]'),\n",
       " Text(0.6904276985743381, 0.5588235294117647, 'gini = 0.0\\nsamples = 1\\nvalue = [0, 0, 1, 0, 0, 0]'),\n",
       " Text(0.6945010183299389, 0.6176470588235294, 'gini = 0.0\\nsamples = 2\\nvalue = [0, 0, 0, 2, 0, 0]'),\n",
       " Text(0.7067209775967414, 0.6764705882352942, 'x[10] <= 11.75\\ngini = 0.219\\nsamples = 8\\nvalue = [0, 0, 0, 1, 7, 0]'),\n",
       " Text(0.7026476578411406, 0.6176470588235294, 'gini = 0.0\\nsamples = 1\\nvalue = [0, 0, 0, 1, 0, 0]'),\n",
       " Text(0.7107942973523421, 0.6176470588235294, 'gini = 0.0\\nsamples = 7\\nvalue = [0, 0, 0, 0, 7, 0]'),\n",
       " Text(0.9061386201629328, 0.8529411764705882, 'x[10] <= 12.05\\ngini = 0.617\\nsamples = 201\\nvalue = [0, 0, 22, 98, 73, 8]'),\n",
       " Text(0.8306071792260692, 0.7941176470588235, 'x[1] <= 0.335\\ngini = 0.589\\nsamples = 164\\nvalue = [0, 0, 21, 90, 50, 3]'),\n",
       " Text(0.7464358452138493, 0.7352941176470589, 'x[9] <= 0.735\\ngini = 0.59\\nsamples = 50\\nvalue = [0, 0, 5, 18, 26, 1]'),\n",
       " Text(0.7270875763747454, 0.6764705882352942, 'x[5] <= 10.5\\ngini = 0.5\\nsamples = 12\\nvalue = [0, 0, 2, 8, 2, 0]'),\n",
       " Text(0.7189409368635438, 0.6176470588235294, 'x[7] <= 0.995\\ngini = 0.625\\nsamples = 4\\nvalue = [0, 0, 2, 1, 1, 0]'),\n",
       " Text(0.714867617107943, 0.5588235294117647, 'x[7] <= 0.995\\ngini = 0.5\\nsamples = 2\\nvalue = [0, 0, 0, 1, 1, 0]'),\n",
       " Text(0.7107942973523421, 0.5, 'gini = 0.0\\nsamples = 1\\nvalue = [0, 0, 0, 1, 0, 0]'),\n",
       " Text(0.7189409368635438, 0.5, 'gini = 0.0\\nsamples = 1\\nvalue = [0, 0, 0, 0, 1, 0]'),\n",
       " Text(0.7230142566191446, 0.5588235294117647, 'gini = 0.0\\nsamples = 2\\nvalue = [0, 0, 2, 0, 0, 0]'),\n",
       " Text(0.7352342158859471, 0.6176470588235294, 'x[7] <= 0.998\\ngini = 0.219\\nsamples = 8\\nvalue = [0, 0, 0, 7, 1, 0]'),\n",
       " Text(0.7311608961303462, 0.5588235294117647, 'gini = 0.0\\nsamples = 7\\nvalue = [0, 0, 0, 7, 0, 0]'),\n",
       " Text(0.7393075356415478, 0.5588235294117647, 'gini = 0.0\\nsamples = 1\\nvalue = [0, 0, 0, 0, 1, 0]'),\n",
       " Text(0.7657841140529531, 0.6764705882352942, 'x[10] <= 10.4\\ngini = 0.525\\nsamples = 38\\nvalue = [0, 0, 3, 10, 24, 1]'),\n",
       " Text(0.7515274949083504, 0.6176470588235294, 'x[6] <= 64.0\\ngini = 0.278\\nsamples = 6\\nvalue = [0, 0, 0, 5, 1, 0]'),\n",
       " Text(0.7474541751527495, 0.5588235294117647, 'gini = 0.0\\nsamples = 4\\nvalue = [0, 0, 0, 4, 0, 0]'),\n",
       " Text(0.7556008146639511, 0.5588235294117647, 'x[8] <= 3.455\\ngini = 0.5\\nsamples = 2\\nvalue = [0, 0, 0, 1, 1, 0]'),\n",
       " Text(0.7515274949083504, 0.5, 'gini = 0.0\\nsamples = 1\\nvalue = [0, 0, 0, 0, 1, 0]'),\n",
       " Text(0.7596741344195519, 0.5, 'gini = 0.0\\nsamples = 1\\nvalue = [0, 0, 0, 1, 0, 0]'),\n",
       " Text(0.780040733197556, 0.6176470588235294, 'x[4] <= 0.12\\ngini = 0.449\\nsamples = 32\\nvalue = [0, 0, 3, 5, 23, 1]'),\n",
       " Text(0.7759674134419552, 0.5588235294117647, 'x[6] <= 53.5\\ngini = 0.391\\nsamples = 30\\nvalue = [0, 0, 3, 3, 23, 1]'),\n",
       " Text(0.7678207739307535, 0.5, 'x[3] <= 1.65\\ngini = 0.288\\nsamples = 24\\nvalue = [0, 0, 0, 3, 20, 1]'),\n",
       " Text(0.7637474541751528, 0.4411764705882353, 'gini = 0.0\\nsamples = 1\\nvalue = [0, 0, 0, 1, 0, 0]'),\n",
       " Text(0.7718940936863544, 0.4411764705882353, 'x[2] <= 0.475\\ngini = 0.234\\nsamples = 23\\nvalue = [0, 0, 0, 2, 20, 1]'),\n",
       " Text(0.7678207739307535, 0.38235294117647056, 'gini = 0.0\\nsamples = 14\\nvalue = [0, 0, 0, 0, 14, 0]'),\n",
       " Text(0.7759674134419552, 0.38235294117647056, 'x[0] <= 9.8\\ngini = 0.494\\nsamples = 9\\nvalue = [0, 0, 0, 2, 6, 1]'),\n",
       " Text(0.7718940936863544, 0.3235294117647059, 'gini = 0.0\\nsamples = 1\\nvalue = [0, 0, 0, 0, 0, 1]'),\n",
       " Text(0.780040733197556, 0.3235294117647059, 'x[3] <= 2.0\\ngini = 0.375\\nsamples = 8\\nvalue = [0, 0, 0, 2, 6, 0]'),\n",
       " Text(0.7759674134419552, 0.2647058823529412, 'gini = 0.0\\nsamples = 1\\nvalue = [0, 0, 0, 1, 0, 0]'),\n",
       " Text(0.7841140529531568, 0.2647058823529412, 'x[3] <= 2.55\\ngini = 0.245\\nsamples = 7\\nvalue = [0, 0, 0, 1, 6, 0]'),\n",
       " Text(0.780040733197556, 0.20588235294117646, 'x[4] <= 0.064\\ngini = 0.444\\nsamples = 3\\nvalue = [0, 0, 0, 1, 2, 0]'),\n",
       " Text(0.7759674134419552, 0.14705882352941177, 'gini = 0.0\\nsamples = 2\\nvalue = [0, 0, 0, 0, 2, 0]'),\n",
       " Text(0.7841140529531568, 0.14705882352941177, 'gini = 0.0\\nsamples = 1\\nvalue = [0, 0, 0, 1, 0, 0]'),\n",
       " Text(0.7881873727087576, 0.20588235294117646, 'gini = 0.0\\nsamples = 4\\nvalue = [0, 0, 0, 0, 4, 0]'),\n",
       " Text(0.7841140529531568, 0.5, 'x[6] <= 72.0\\ngini = 0.5\\nsamples = 6\\nvalue = [0, 0, 3, 0, 3, 0]'),\n",
       " Text(0.780040733197556, 0.4411764705882353, 'gini = 0.0\\nsamples = 3\\nvalue = [0, 0, 3, 0, 0, 0]'),\n",
       " Text(0.7881873727087576, 0.4411764705882353, 'gini = 0.0\\nsamples = 3\\nvalue = [0, 0, 0, 0, 3, 0]'),\n",
       " Text(0.7841140529531568, 0.5588235294117647, 'gini = 0.0\\nsamples = 2\\nvalue = [0, 0, 0, 2, 0, 0]'),\n",
       " Text(0.9147785132382892, 0.7352941176470589, 'x[3] <= 4.4\\ngini = 0.537\\nsamples = 114\\nvalue = [0, 0, 16, 72, 24, 2]'),\n",
       " Text(0.8865835030549898, 0.6764705882352942, 'x[2] <= 0.56\\ngini = 0.484\\nsamples = 104\\nvalue = [0, 0, 10, 71, 21, 2]'),\n",
       " Text(0.8688900203665988, 0.6176470588235294, 'x[1] <= 0.875\\ngini = 0.431\\nsamples = 90\\nvalue = [0, 0, 9, 66, 13, 2]'),\n",
       " Text(0.8648167006109979, 0.5588235294117647, 'x[4] <= 0.071\\ngini = 0.409\\nsamples = 88\\nvalue = [0, 0, 7, 66, 13, 2]'),\n",
       " Text(0.8477596741344195, 0.5, 'x[1] <= 0.555\\ngini = 0.542\\nsamples = 34\\nvalue = [0, 0, 2, 21, 9, 2]'),\n",
       " Text(0.8340122199592668, 0.4411764705882353, 'x[6] <= 47.5\\ngini = 0.464\\nsamples = 27\\nvalue = [0, 0, 1, 19, 5, 2]'),\n",
       " Text(0.8187372708757638, 0.38235294117647056, 'x[7] <= 0.996\\ngini = 0.602\\nsamples = 16\\nvalue = [0, 0, 1, 9, 4, 2]'),\n",
       " Text(0.8085539714867617, 0.3235294117647059, 'x[2] <= 0.285\\ngini = 0.716\\nsamples = 9\\nvalue = [0, 0, 1, 3, 3, 2]'),\n",
       " Text(0.8004073319755601, 0.2647058823529412, 'x[3] <= 2.15\\ngini = 0.375\\nsamples = 4\\nvalue = [0, 0, 1, 3, 0, 0]'),\n",
       " Text(0.7963340122199593, 0.20588235294117646, 'gini = 0.0\\nsamples = 3\\nvalue = [0, 0, 0, 3, 0, 0]'),\n",
       " Text(0.8044806517311609, 0.20588235294117646, 'gini = 0.0\\nsamples = 1\\nvalue = [0, 0, 1, 0, 0, 0]'),\n",
       " Text(0.8167006109979633, 0.2647058823529412, 'x[4] <= 0.07\\ngini = 0.48\\nsamples = 5\\nvalue = [0, 0, 0, 0, 3, 2]'),\n",
       " Text(0.8126272912423625, 0.20588235294117646, 'x[1] <= 0.425\\ngini = 0.444\\nsamples = 3\\nvalue = [0, 0, 0, 0, 1, 2]'),\n",
       " Text(0.8085539714867617, 0.14705882352941177, 'gini = 0.0\\nsamples = 2\\nvalue = [0, 0, 0, 0, 0, 2]'),\n",
       " Text(0.8167006109979633, 0.14705882352941177, 'gini = 0.0\\nsamples = 1\\nvalue = [0, 0, 0, 0, 1, 0]'),\n",
       " Text(0.8207739307535642, 0.20588235294117646, 'gini = 0.0\\nsamples = 2\\nvalue = [0, 0, 0, 0, 2, 0]'),\n",
       " Text(0.8289205702647657, 0.3235294117647059, 'x[4] <= 0.061\\ngini = 0.245\\nsamples = 7\\nvalue = [0, 0, 0, 6, 1, 0]'),\n",
       " Text(0.824847250509165, 0.2647058823529412, 'gini = 0.0\\nsamples = 1\\nvalue = [0, 0, 0, 0, 1, 0]'),\n",
       " Text(0.8329938900203666, 0.2647058823529412, 'gini = 0.0\\nsamples = 6\\nvalue = [0, 0, 0, 6, 0, 0]'),\n",
       " Text(0.8492871690427699, 0.38235294117647056, 'x[8] <= 3.19\\ngini = 0.165\\nsamples = 11\\nvalue = [0, 0, 0, 10, 1, 0]'),\n",
       " Text(0.845213849287169, 0.3235294117647059, 'x[1] <= 0.43\\ngini = 0.5\\nsamples = 2\\nvalue = [0, 0, 0, 1, 1, 0]'),\n",
       " Text(0.8411405295315683, 0.2647058823529412, 'gini = 0.0\\nsamples = 1\\nvalue = [0, 0, 0, 0, 1, 0]'),\n",
       " Text(0.8492871690427699, 0.2647058823529412, 'gini = 0.0\\nsamples = 1\\nvalue = [0, 0, 0, 1, 0, 0]'),\n",
       " Text(0.8533604887983707, 0.3235294117647059, 'gini = 0.0\\nsamples = 9\\nvalue = [0, 0, 0, 9, 0, 0]'),\n",
       " Text(0.8615071283095723, 0.4411764705882353, 'x[4] <= 0.061\\ngini = 0.571\\nsamples = 7\\nvalue = [0, 0, 1, 2, 4, 0]'),\n",
       " Text(0.8574338085539714, 0.38235294117647056, 'gini = 0.0\\nsamples = 2\\nvalue = [0, 0, 0, 2, 0, 0]'),\n",
       " Text(0.8655804480651731, 0.38235294117647056, 'x[8] <= 3.215\\ngini = 0.32\\nsamples = 5\\nvalue = [0, 0, 1, 0, 4, 0]'),\n",
       " Text(0.8615071283095723, 0.3235294117647059, 'gini = 0.0\\nsamples = 1\\nvalue = [0, 0, 1, 0, 0, 0]'),\n",
       " Text(0.869653767820774, 0.3235294117647059, 'gini = 0.0\\nsamples = 4\\nvalue = [0, 0, 0, 0, 4, 0]'),\n",
       " Text(0.8818737270875764, 0.5, 'x[6] <= 109.0\\ngini = 0.291\\nsamples = 54\\nvalue = [0, 0, 5, 45, 4, 0]'),\n",
       " Text(0.8778004073319755, 0.4411764705882353, 'x[0] <= 6.0\\ngini = 0.268\\nsamples = 53\\nvalue = [0, 0, 4, 45, 4, 0]'),\n",
       " Text(0.8737270875763747, 0.38235294117647056, 'gini = 0.0\\nsamples = 1\\nvalue = [0, 0, 1, 0, 0, 0]'),\n",
       " Text(0.8818737270875764, 0.38235294117647056, 'x[0] <= 14.25\\ngini = 0.242\\nsamples = 52\\nvalue = [0, 0, 3, 45, 4, 0]'),\n",
       " Text(0.8778004073319755, 0.3235294117647059, 'x[9] <= 0.845\\ngini = 0.214\\nsamples = 51\\nvalue = [0, 0, 2, 45, 4, 0]'),\n",
       " Text(0.8635437881873728, 0.2647058823529412, 'x[4] <= 0.123\\ngini = 0.141\\nsamples = 40\\nvalue = [0, 0, 1, 37, 2, 0]'),\n",
       " Text(0.8553971486761711, 0.20588235294117646, 'x[10] <= 11.65\\ngini = 0.1\\nsamples = 38\\nvalue = [0, 0, 0, 36, 2, 0]'),\n",
       " Text(0.8513238289205702, 0.14705882352941177, 'gini = 0.0\\nsamples = 31\\nvalue = [0, 0, 0, 31, 0, 0]'),\n",
       " Text(0.8594704684317719, 0.14705882352941177, 'x[2] <= 0.39\\ngini = 0.408\\nsamples = 7\\nvalue = [0, 0, 0, 5, 2, 0]'),\n",
       " Text(0.8553971486761711, 0.08823529411764706, 'x[7] <= 0.996\\ngini = 0.444\\nsamples = 3\\nvalue = [0, 0, 0, 1, 2, 0]'),\n",
       " Text(0.8513238289205702, 0.029411764705882353, 'gini = 0.0\\nsamples = 1\\nvalue = [0, 0, 0, 1, 0, 0]'),\n",
       " Text(0.8594704684317719, 0.029411764705882353, 'gini = 0.0\\nsamples = 2\\nvalue = [0, 0, 0, 0, 2, 0]'),\n",
       " Text(0.8635437881873728, 0.08823529411764706, 'gini = 0.0\\nsamples = 4\\nvalue = [0, 0, 0, 4, 0, 0]'),\n",
       " Text(0.8716904276985743, 0.20588235294117646, 'x[6] <= 18.0\\ngini = 0.5\\nsamples = 2\\nvalue = [0, 0, 1, 1, 0, 0]'),\n",
       " Text(0.8676171079429735, 0.14705882352941177, 'gini = 0.0\\nsamples = 1\\nvalue = [0, 0, 1, 0, 0, 0]'),\n",
       " Text(0.8757637474541752, 0.14705882352941177, 'gini = 0.0\\nsamples = 1\\nvalue = [0, 0, 0, 1, 0, 0]'),\n",
       " Text(0.8920570264765784, 0.2647058823529412, 'x[9] <= 0.885\\ngini = 0.43\\nsamples = 11\\nvalue = [0, 0, 1, 8, 2, 0]'),\n",
       " Text(0.8879837067209776, 0.20588235294117646, 'x[8] <= 3.305\\ngini = 0.625\\nsamples = 4\\nvalue = [0, 0, 1, 1, 2, 0]'),\n",
       " Text(0.8839103869653768, 0.14705882352941177, 'x[3] <= 2.75\\ngini = 0.5\\nsamples = 2\\nvalue = [0, 0, 1, 1, 0, 0]'),\n",
       " Text(0.879837067209776, 0.08823529411764706, 'gini = 0.0\\nsamples = 1\\nvalue = [0, 0, 0, 1, 0, 0]'),\n",
       " Text(0.8879837067209776, 0.08823529411764706, 'gini = 0.0\\nsamples = 1\\nvalue = [0, 0, 1, 0, 0, 0]'),\n",
       " Text(0.8920570264765784, 0.14705882352941177, 'gini = 0.0\\nsamples = 2\\nvalue = [0, 0, 0, 0, 2, 0]'),\n",
       " Text(0.8961303462321792, 0.20588235294117646, 'gini = 0.0\\nsamples = 7\\nvalue = [0, 0, 0, 7, 0, 0]'),\n",
       " Text(0.8859470468431772, 0.3235294117647059, 'gini = 0.0\\nsamples = 1\\nvalue = [0, 0, 1, 0, 0, 0]'),\n",
       " Text(0.8859470468431772, 0.4411764705882353, 'gini = 0.0\\nsamples = 1\\nvalue = [0, 0, 1, 0, 0, 0]'),\n",
       " Text(0.8729633401221996, 0.5588235294117647, 'gini = 0.0\\nsamples = 2\\nvalue = [0, 0, 2, 0, 0, 0]'),\n",
       " Text(0.9042769857433809, 0.6176470588235294, 'x[7] <= 0.998\\ngini = 0.541\\nsamples = 14\\nvalue = [0, 0, 1, 5, 8, 0]'),\n",
       " Text(0.8940936863543788, 0.5588235294117647, 'x[4] <= 0.147\\ngini = 0.245\\nsamples = 7\\nvalue = [0, 0, 0, 1, 6, 0]'),\n",
       " Text(0.890020366598778, 0.5, 'gini = 0.0\\nsamples = 6\\nvalue = [0, 0, 0, 0, 6, 0]'),\n",
       " Text(0.8981670061099797, 0.5, 'gini = 0.0\\nsamples = 1\\nvalue = [0, 0, 0, 1, 0, 0]'),\n",
       " Text(0.9144602851323829, 0.5588235294117647, 'x[10] <= 10.65\\ngini = 0.571\\nsamples = 7\\nvalue = [0, 0, 1, 4, 2, 0]'),\n",
       " Text(0.9063136456211812, 0.5, 'x[7] <= 1.0\\ngini = 0.5\\nsamples = 2\\nvalue = [0, 0, 1, 0, 1, 0]'),\n",
       " Text(0.9022403258655805, 0.4411764705882353, 'gini = 0.0\\nsamples = 1\\nvalue = [0, 0, 1, 0, 0, 0]'),\n",
       " Text(0.9103869653767821, 0.4411764705882353, 'gini = 0.0\\nsamples = 1\\nvalue = [0, 0, 0, 0, 1, 0]'),\n",
       " Text(0.9226069246435845, 0.5, 'x[1] <= 0.588\\ngini = 0.32\\nsamples = 5\\nvalue = [0, 0, 0, 4, 1, 0]'),\n",
       " Text(0.9185336048879837, 0.4411764705882353, 'gini = 0.0\\nsamples = 4\\nvalue = [0, 0, 0, 4, 0, 0]'),\n",
       " Text(0.9266802443991853, 0.4411764705882353, 'gini = 0.0\\nsamples = 1\\nvalue = [0, 0, 0, 0, 1, 0]'),\n",
       " Text(0.9429735234215886, 0.6764705882352942, 'x[6] <= 52.5\\ngini = 0.54\\nsamples = 10\\nvalue = [0, 0, 6, 1, 3, 0]'),\n",
       " Text(0.9389002036659878, 0.6176470588235294, 'x[6] <= 17.5\\ngini = 0.56\\nsamples = 5\\nvalue = [0, 0, 1, 1, 3, 0]'),\n",
       " Text(0.9348268839103869, 0.5588235294117647, 'x[10] <= 11.25\\ngini = 0.5\\nsamples = 2\\nvalue = [0, 0, 1, 1, 0, 0]'),\n",
       " Text(0.9307535641547862, 0.5, 'gini = 0.0\\nsamples = 1\\nvalue = [0, 0, 0, 1, 0, 0]'),\n",
       " Text(0.9389002036659878, 0.5, 'gini = 0.0\\nsamples = 1\\nvalue = [0, 0, 1, 0, 0, 0]'),\n",
       " Text(0.9429735234215886, 0.5588235294117647, 'gini = 0.0\\nsamples = 3\\nvalue = [0, 0, 0, 0, 3, 0]'),\n",
       " Text(0.9470468431771895, 0.6176470588235294, 'gini = 0.0\\nsamples = 5\\nvalue = [0, 0, 5, 0, 0, 0]'),\n",
       " Text(0.9816700610997964, 0.7941176470588235, 'x[9] <= 0.905\\ngini = 0.548\\nsamples = 37\\nvalue = [0, 0, 1, 8, 23, 5]'),\n",
       " Text(0.9775967413441955, 0.7352941176470589, 'x[10] <= 13.8\\ngini = 0.498\\nsamples = 34\\nvalue = [0, 0, 1, 5, 23, 5]'),\n",
       " Text(0.9633401221995926, 0.6764705882352942, 'x[2] <= 0.565\\ngini = 0.4\\nsamples = 29\\nvalue = [0, 0, 1, 2, 22, 4]'),\n",
       " Text(0.955193482688391, 0.6176470588235294, 'x[5] <= 31.5\\ngini = 0.313\\nsamples = 27\\nvalue = [0, 0, 0, 1, 22, 4]'),\n",
       " Text(0.9511201629327902, 0.5588235294117647, 'x[3] <= 6.3\\ngini = 0.269\\nsamples = 26\\nvalue = [0, 0, 0, 1, 22, 3]'),\n",
       " Text(0.9470468431771895, 0.5, 'x[4] <= 0.076\\ngini = 0.218\\nsamples = 25\\nvalue = [0, 0, 0, 1, 22, 2]'),\n",
       " Text(0.9389002036659878, 0.4411764705882353, 'x[9] <= 0.705\\ngini = 0.1\\nsamples = 19\\nvalue = [0, 0, 0, 1, 18, 0]'),\n",
       " Text(0.9348268839103869, 0.38235294117647056, 'x[6] <= 13.0\\ngini = 0.444\\nsamples = 3\\nvalue = [0, 0, 0, 1, 2, 0]'),\n",
       " Text(0.9307535641547862, 0.3235294117647059, 'gini = 0.0\\nsamples = 2\\nvalue = [0, 0, 0, 0, 2, 0]'),\n",
       " Text(0.9389002036659878, 0.3235294117647059, 'gini = 0.0\\nsamples = 1\\nvalue = [0, 0, 0, 1, 0, 0]'),\n",
       " Text(0.9429735234215886, 0.38235294117647056, 'gini = 0.0\\nsamples = 16\\nvalue = [0, 0, 0, 0, 16, 0]'),\n",
       " Text(0.955193482688391, 0.4411764705882353, 'x[10] <= 12.7\\ngini = 0.444\\nsamples = 6\\nvalue = [0, 0, 0, 0, 4, 2]'),\n",
       " Text(0.9511201629327902, 0.38235294117647056, 'gini = 0.0\\nsamples = 4\\nvalue = [0, 0, 0, 0, 4, 0]'),\n",
       " Text(0.9592668024439919, 0.38235294117647056, 'gini = 0.0\\nsamples = 2\\nvalue = [0, 0, 0, 0, 0, 2]'),\n",
       " Text(0.955193482688391, 0.5, 'gini = 0.0\\nsamples = 1\\nvalue = [0, 0, 0, 0, 0, 1]'),\n",
       " Text(0.9592668024439919, 0.5588235294117647, 'gini = 0.0\\nsamples = 1\\nvalue = [0, 0, 0, 0, 0, 1]'),\n",
       " Text(0.9714867617107943, 0.6176470588235294, 'x[5] <= 14.0\\ngini = 0.5\\nsamples = 2\\nvalue = [0, 0, 1, 1, 0, 0]'),\n",
       " Text(0.9674134419551935, 0.5588235294117647, 'gini = 0.0\\nsamples = 1\\nvalue = [0, 0, 0, 1, 0, 0]'),\n",
       " Text(0.9755600814663951, 0.5588235294117647, 'gini = 0.0\\nsamples = 1\\nvalue = [0, 0, 1, 0, 0, 0]'),\n",
       " Text(0.9918533604887984, 0.6764705882352942, 'x[6] <= 75.0\\ngini = 0.56\\nsamples = 5\\nvalue = [0, 0, 0, 3, 1, 1]'),\n",
       " Text(0.9877800407331976, 0.6176470588235294, 'x[9] <= 0.745\\ngini = 0.375\\nsamples = 4\\nvalue = [0, 0, 0, 3, 1, 0]'),\n",
       " Text(0.9837067209775967, 0.5588235294117647, 'gini = 0.0\\nsamples = 1\\nvalue = [0, 0, 0, 0, 1, 0]'),\n",
       " Text(0.9918533604887984, 0.5588235294117647, 'gini = 0.0\\nsamples = 3\\nvalue = [0, 0, 0, 3, 0, 0]'),\n",
       " Text(0.9959266802443992, 0.6176470588235294, 'gini = 0.0\\nsamples = 1\\nvalue = [0, 0, 0, 0, 0, 1]'),\n",
       " Text(0.9857433808553971, 0.7352941176470589, 'gini = 0.0\\nsamples = 3\\nvalue = [0, 0, 0, 3, 0, 0]')]"
      ]
     },
     "execution_count": 19,
     "metadata": {},
     "output_type": "execute_result"
    }
   ],
   "source": [
    "from sklearn import tree\n",
    "import matplotlib.pyplot as plt\n",
    "fig=plt.figure(figsize=(25,15))\n",
    "tree.plot_tree(model,filled=True)"
   ]
  },
  {
   "cell_type": "code",
   "execution_count": null,
   "id": "905b5ab8",
   "metadata": {},
   "outputs": [],
   "source": [
    "## Save the decision tree diagram in your pc\n",
    "fig.savefig(\"decistion_tree_classifier.png\")"
   ]
  },
  {
   "cell_type": "code",
   "execution_count": null,
   "id": "01807049",
   "metadata": {},
   "outputs": [],
   "source": [
    "y_predict=model.predict(X_test)"
   ]
  },
  {
   "cell_type": "code",
   "execution_count": null,
   "id": "a06bd82f",
   "metadata": {},
   "outputs": [],
   "source": [
    "from sklearn.metrics import accuracy_score"
   ]
  },
  {
   "cell_type": "markdown",
   "id": "f105c2a8",
   "metadata": {},
   "source": [
    "### Accuracy before hyperparameter tunning"
   ]
  },
  {
   "cell_type": "code",
   "execution_count": null,
   "id": "73a38675",
   "metadata": {},
   "outputs": [],
   "source": [
    "accuracy_score(y_test,y_predict)"
   ]
  },
  {
   "cell_type": "markdown",
   "id": "727688d9",
   "metadata": {},
   "source": [
    "## Hyper_Parameter tunning"
   ]
  },
  {
   "cell_type": "code",
   "execution_count": null,
   "id": "deefba63",
   "metadata": {},
   "outputs": [],
   "source": [
    "grid_param = {\n",
    "    'criterion': ['gini', 'entropy'],\n",
    "    'max_depth' : range(2,10,1),\n",
    "    'min_samples_leaf' : range(1,8,1),\n",
    "    'min_samples_split': range(2,8,1),\n",
    "    'splitter' : ['best', 'random']\n",
    "    \n",
    "}"
   ]
  },
  {
   "cell_type": "code",
   "execution_count": null,
   "id": "661d67e9",
   "metadata": {},
   "outputs": [],
   "source": [
    "from sklearn.model_selection import GridSearchCV\n",
    "grid_searh=GridSearchCV(estimator=modeol,param_grid=grid_param,cv=3,verbose=1)"
   ]
  },
  {
   "cell_type": "code",
   "execution_count": null,
   "id": "d828935d",
   "metadata": {},
   "outputs": [],
   "source": [
    "grid_searh.fit(X_train,y_train)"
   ]
  },
  {
   "cell_type": "markdown",
   "id": "3a89acd6",
   "metadata": {},
   "source": [
    "![](https://i.imgur.com/Y8w5vKD.jpg)"
   ]
  },
  {
   "cell_type": "code",
   "execution_count": null,
   "id": "bebf4456",
   "metadata": {},
   "outputs": [],
   "source": [
    "grid_searh.best_params_"
   ]
  },
  {
   "cell_type": "code",
   "execution_count": null,
   "id": "04542a40",
   "metadata": {},
   "outputs": [],
   "source": [
    "model_with_best_params=DecisionTreeClassifier(criterion= 'gini',max_depth= 6,min_samples_leaf= 4,min_samples_split= 6,splitter='random')"
   ]
  },
  {
   "cell_type": "code",
   "execution_count": null,
   "id": "c545cc5c",
   "metadata": {
    "scrolled": true
   },
   "outputs": [],
   "source": [
    "model_with_best_params.fit(X_train,y_train)"
   ]
  },
  {
   "cell_type": "code",
   "execution_count": null,
   "id": "24458aa7",
   "metadata": {},
   "outputs": [],
   "source": [
    "from sklearn import tree\n",
    "import matplotlib.pyplot as plt\n",
    "fig=plt.figure(figsize=(25,15))\n",
    "tree.plot_tree(model_with_best_params,filled=True,fontsize=10)"
   ]
  },
  {
   "cell_type": "code",
   "execution_count": null,
   "id": "353b6c42",
   "metadata": {},
   "outputs": [],
   "source": [
    "y_prediction2=model_with_best_params.predict(X_test)"
   ]
  },
  {
   "cell_type": "markdown",
   "id": "f398ba10",
   "metadata": {},
   "source": [
    "### Accuracy after hyper-parameter tunning"
   ]
  },
  {
   "cell_type": "code",
   "execution_count": null,
   "id": "e2984918",
   "metadata": {},
   "outputs": [],
   "source": [
    "accuracy_score(y_test,y_prediction2)"
   ]
  },
  {
   "cell_type": "markdown",
   "id": "1d3e003a",
   "metadata": {},
   "source": [
    "## Random Forrest Algorithm"
   ]
  },
  {
   "cell_type": "code",
   "execution_count": null,
   "id": "342ac426",
   "metadata": {},
   "outputs": [],
   "source": [
    "from sklearn.ensemble import RandomForestClassifier\n",
    "Rf_model=RandomForestClassifier()"
   ]
  },
  {
   "cell_type": "code",
   "execution_count": null,
   "id": "21304b92",
   "metadata": {},
   "outputs": [],
   "source": [
    "Rf_model.fit(X_train,y_train)"
   ]
  },
  {
   "cell_type": "code",
   "execution_count": null,
   "id": "db1406f1",
   "metadata": {},
   "outputs": [],
   "source": [
    "y_pred_rf=Rf_model.predict(X_test)"
   ]
  },
  {
   "cell_type": "code",
   "execution_count": null,
   "id": "44ad678b",
   "metadata": {},
   "outputs": [],
   "source": [
    "accuracy_score(y_test,y_pred_rf)"
   ]
  },
  {
   "cell_type": "code",
   "execution_count": null,
   "id": "681be779",
   "metadata": {},
   "outputs": [],
   "source": [
    "# we are tuning three hyperparameters right now, we are passing the different values for both parameters\n",
    "grid_param = {\n",
    "    \"n_estimators\" : [90,100,115,130],\n",
    "    'criterion': ['gini', 'entropy'],\n",
    "    'max_depth' : range(2,20,1),\n",
    "    'min_samples_leaf' : range(1,10,1),\n",
    "    'min_samples_split': range(2,10,1),\n",
    "    'max_features' : ['auto','log2']\n",
    "}"
   ]
  },
  {
   "cell_type": "code",
   "execution_count": null,
   "id": "2f05a3c6",
   "metadata": {},
   "outputs": [],
   "source": [
    "from sklearn.model_selection import GridSearchCV\n",
    "grid_searh=GridSearchCV(estimator=Rf_model,param_grid=grid_param,cv=3,verbose=2,n_jobs=-1)"
   ]
  },
  {
   "cell_type": "code",
   "execution_count": null,
   "id": "d43a7c72",
   "metadata": {},
   "outputs": [],
   "source": [
    "grid_searh.fit(X_train,y_train)"
   ]
  },
  {
   "cell_type": "markdown",
   "id": "9acbaee5",
   "metadata": {},
   "source": [
    "![](https://i.imgur.com/VdZqwmm.jpg)"
   ]
  },
  {
   "cell_type": "code",
   "execution_count": null,
   "id": "24ed47cc",
   "metadata": {},
   "outputs": [],
   "source": [
    "grid_searh.best_params_"
   ]
  },
  {
   "cell_type": "code",
   "execution_count": null,
   "id": "c55fabc6",
   "metadata": {},
   "outputs": [],
   "source": [
    "Rf_model_with_best_params=RandomForestClassifier(criterion='gini',max_depth= 14,max_features= 'log2',min_samples_leaf= 1,min_samples_split= 2,n_estimators=115)"
   ]
  },
  {
   "cell_type": "code",
   "execution_count": null,
   "id": "aa21f750",
   "metadata": {},
   "outputs": [],
   "source": [
    "Rf_model_with_best_params.fit(X_train,y_train)"
   ]
  },
  {
   "cell_type": "code",
   "execution_count": null,
   "id": "2fd0ee65",
   "metadata": {},
   "outputs": [],
   "source": [
    "y_predict_rf_bp=Rf_model_with_best_params.predict(X_test)"
   ]
  },
  {
   "cell_type": "code",
   "execution_count": null,
   "id": "cc019765",
   "metadata": {},
   "outputs": [],
   "source": [
    "accuracy_score(y_test,y_predict_rf_bp)"
   ]
  },
  {
   "cell_type": "markdown",
   "id": "42b034dc",
   "metadata": {},
   "source": [
    "## Bagging Classifier"
   ]
  },
  {
   "cell_type": "code",
   "execution_count": null,
   "id": "6094fc41",
   "metadata": {},
   "outputs": [],
   "source": [
    "from sklearn.svm import SVC\n",
    "from sklearn.ensemble import BaggingClassifier\n",
    "from sklearn.datasets import make_classification\n",
    "\n",
    "model_bagging_svc = BaggingClassifier(base_estimator=SVC(),n_estimators=50, random_state=0).fit(X_train,y_train)"
   ]
  },
  {
   "cell_type": "code",
   "execution_count": null,
   "id": "1130562a",
   "metadata": {},
   "outputs": [],
   "source": [
    "y_predict_bagging=model_bagging_svc.predict(X_test)"
   ]
  },
  {
   "cell_type": "code",
   "execution_count": null,
   "id": "2bd75b94",
   "metadata": {},
   "outputs": [],
   "source": [
    "accuracy_score(y_test,y_predict_bagging)"
   ]
  },
  {
   "cell_type": "code",
   "execution_count": null,
   "id": "b97e4ad6",
   "metadata": {},
   "outputs": [],
   "source": []
  }
 ],
 "metadata": {
  "kernelspec": {
   "display_name": "Python 3 (ipykernel)",
   "language": "python",
   "name": "python3"
  },
  "language_info": {
   "codemirror_mode": {
    "name": "ipython",
    "version": 3
   },
   "file_extension": ".py",
   "mimetype": "text/x-python",
   "name": "python",
   "nbconvert_exporter": "python",
   "pygments_lexer": "ipython3",
   "version": "3.9.13"
  }
 },
 "nbformat": 4,
 "nbformat_minor": 5
}
